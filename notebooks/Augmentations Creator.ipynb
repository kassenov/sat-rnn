{
 "cells": [
  {
   "cell_type": "markdown",
   "metadata": {},
   "source": [
    "Based on https://albumentations.ai/docs/examples/example/"
   ]
  },
  {
   "cell_type": "code",
   "execution_count": 14,
   "metadata": {},
   "outputs": [],
   "source": [
    "import os\n",
    "\n",
    "path2original = \"./data/original\"\n",
    "path2augmented = \"./data/augmented\"\n",
    "\n",
    "# Copying originals\n",
    "from distutils.dir_util import copy_tree\n",
    "fls = copy_tree(path2original, path2augmented)"
   ]
  },
  {
   "cell_type": "code",
   "execution_count": 15,
   "metadata": {},
   "outputs": [
    {
     "data": {
      "text/plain": [
       "(['1112', '1461', '1463', '1464', '1470', '1471'], 6)"
      ]
     },
     "execution_count": 15,
     "metadata": {},
     "output_type": "execute_result"
    }
   ],
   "source": [
    "def getFieldPath(field):\n",
    "    return path2augmented + \"/\" + field\n",
    "\n",
    "def getImagePath(field, imageName):\n",
    "    return getFieldPath(field) + \"/\" + imageName\n",
    "\n",
    "def getImageNames(field):\n",
    "    return sorted(os.listdir(path2augmented + \"/\" + field))\n",
    "\n",
    "fields = sorted(os.listdir(path2original))\n",
    "fields, len(fields)"
   ]
  },
  {
   "cell_type": "code",
   "execution_count": 16,
   "metadata": {},
   "outputs": [],
   "source": [
    "import random\n",
    "\n",
    "import cv2\n",
    "from matplotlib import pyplot as plt\n",
    "\n",
    "import albumentations as A\n",
    "\n",
    "def visualize(image):\n",
    "    plt.figure(figsize=(10, 10))\n",
    "    plt.axis('off')\n",
    "    plt.imshow(image)"
   ]
  },
  {
   "cell_type": "code",
   "execution_count": 18,
   "metadata": {
    "scrolled": false
   },
   "outputs": [],
   "source": [
    "import itertools\n",
    "\n",
    "def transform(img, flip, rotation):\n",
    "    if flip != None:\n",
    "        img = cv2.flip(img, flip)\n",
    "    if rotation != None:\n",
    "        img = cv2.rotate(img, rotation)\n",
    "    return img\n",
    "\n",
    "def generateBasicAugmentations(fields):\n",
    "    \n",
    "    flips = [0, 1, -1]\n",
    "    flipToIdMap = {k: v for v, k in enumerate(flips)}\n",
    "    rotations = [None, cv2.ROTATE_90_CLOCKWISE, cv2.ROTATE_180, cv2.ROTATE_90_COUNTERCLOCKWISE]\n",
    "    rotationToIdMap = {k: v for v, k in enumerate(rotations)}\n",
    "    \n",
    "    transform_combs = list(itertools.product(flips, rotations))\n",
    "    \n",
    "    for field in fields:\n",
    "        imageNames = getImageNames(field)\n",
    "        \n",
    "        for imageName in imageNames:\n",
    "            path = getImagePath(field, imageName)\n",
    "            image = cv2.imread(path)\n",
    "            #image = cv2.cvtColor(image, cv2.COLOR_BGR2RGB)\n",
    "            \n",
    "            for flip, rotation in transform_combs:\n",
    "                flipId = flipToIdMap[flip]\n",
    "                rotationId = rotationToIdMap[rotation]\n",
    "                \n",
    "                new_field = f'{field}_{flipId}_{rotationId}'\n",
    "                new_field_path = getFieldPath(new_field)\n",
    "                \n",
    "                if not os.path.exists(new_field_path):\n",
    "                    os.makedirs(new_field_path)\n",
    "\n",
    "                augmented_image = transform(image, flip, rotation)\n",
    "                augmented_image_path = getImagePath(new_field, imageName)\n",
    "                cv2.imwrite(augmented_image_path, augmented_image)"
   ]
  },
  {
   "cell_type": "code",
   "execution_count": 19,
   "metadata": {},
   "outputs": [],
   "source": [
    "generateBasicAugmentations(fields)"
   ]
  },
  {
   "cell_type": "markdown",
   "metadata": {},
   "source": [
    "Transforms https://albumentations.ai/docs/examples/example_kaggle_salt/#non-destructive-transformations-dehidral-group-d4"
   ]
  }
 ],
 "metadata": {
  "kernelspec": {
   "display_name": "Python 3",
   "language": "python",
   "name": "python3"
  },
  "language_info": {
   "codemirror_mode": {
    "name": "ipython",
    "version": 3
   },
   "file_extension": ".py",
   "mimetype": "text/x-python",
   "name": "python",
   "nbconvert_exporter": "python",
   "pygments_lexer": "ipython3",
   "version": "3.8.5"
  }
 },
 "nbformat": 4,
 "nbformat_minor": 4
}
