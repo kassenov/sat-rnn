{
 "cells": [
  {
   "cell_type": "markdown",
   "id": "upper-freedom",
   "metadata": {},
   "source": [
    "https://pytorch.org/tutorials/beginner/transfer_learning_tutorial.html\n",
    "\n",
    "https://learnopencv.com/multi-label-image-classification-with-pytorch-image-tagging/\n",
    "\n",
    "https://stackoverflow.com/questions/61524717/pytorch-how-to-find-accuracy-for-multi-label-classification"
   ]
  },
  {
   "cell_type": "code",
   "execution_count": 1,
   "id": "tested-specific",
   "metadata": {},
   "outputs": [],
   "source": [
    "path = \"./data/regionsnorth/\"\n",
    "\n",
    "import csv\n",
    "from collections import namedtuple\n",
    "\n",
    "filepath_to_label = {}\n",
    "filepaths = []\n",
    "\n",
    "with open('./data/regionsnorth/file2.csv', newline='') as csvfile:\n",
    "    reader = csv.reader(csvfile, delimiter=',', quotechar='\"')\n",
    "    for idx, row in enumerate(reader):\n",
    "        if idx != 0:\n",
    "            filepath = row[4]\n",
    "            label = row[6]\n",
    "            filepath_to_label[filepath] = label\n",
    "            filepaths.append(filepath)\n",
    "\n",
    "import numpy as np\n",
    "            \n",
    "np_filepaths = np.array(sorted(filepaths))"
   ]
  },
  {
   "cell_type": "code",
   "execution_count": 2,
   "id": "bound-relations",
   "metadata": {},
   "outputs": [],
   "source": [
    "from sklearn.model_selection import ShuffleSplit\n",
    "\n",
    "sss = ShuffleSplit(n_splits=2, test_size=0.1, random_state=0)\n",
    "train_idx, test_idx = next(sss.split(np_filepaths))\n",
    "\n",
    "train_np_filepaths = [np_filepaths[ind] for ind in train_idx]\n",
    "test_np_filepaths = [np_filepaths[ind] for ind in test_idx]"
   ]
  },
  {
   "cell_type": "code",
   "execution_count": 3,
   "id": "coordinate-shipping",
   "metadata": {},
   "outputs": [],
   "source": [
    "# Data set\n",
    "from torch.utils.data import Dataset, DataLoader, Subset\n",
    "import glob\n",
    "from PIL import Image\n",
    "import torch\n",
    "import random\n",
    "import torchvision\n",
    "\n",
    "np.random.seed(2021)\n",
    "random.seed(2021)\n",
    "torch.manual_seed(2021)\n",
    "\n",
    "labels = sorted([\"nothing\", \"unvisible\", \"sowing\", \"harvesting\"])\n",
    "label_to_idx = {cls_name: i for i, cls_name in enumerate(labels)}\n",
    "\n",
    "idx_to_label = {value:key for key, value in label_to_idx.items()}\n",
    "\n",
    "class FieldsDataset(Dataset):\n",
    "    def __init__(self, file_paths, filepath_to_label, transform):\n",
    "        self.transform = transform\n",
    "        self.file_paths = file_paths\n",
    "        self.filepath_to_label = filepath_to_label\n",
    "        \n",
    "    def __len__(self):\n",
    "        return len(self.file_paths)\n",
    "    \n",
    "    def __getitem__(self, idx):\n",
    "        file_path = self.file_paths[idx]\n",
    "\n",
    "        frame = Image.open(path + file_path).convert('RGB') # Converting to RGB to make sure the tensor of 3 layers\n",
    "\n",
    "        seed = np.random.randint(1e9)\n",
    "        \n",
    "        random.seed(seed)\n",
    "        np.random.seed(seed)\n",
    "        \n",
    "        frame = self.transform(frame)\n",
    "\n",
    "        return frame, label_to_idx[filepath_to_label[file_path]]"
   ]
  },
  {
   "cell_type": "code",
   "execution_count": 4,
   "id": "improved-student",
   "metadata": {},
   "outputs": [
    {
     "name": "stdout",
     "output_type": "stream",
     "text": [
      "6807\n",
      "757\n"
     ]
    }
   ],
   "source": [
    "# Transforms\n",
    "\n",
    "import torchvision.transforms as transforms\n",
    "\n",
    "h, w =224, 224\n",
    "mean = [0.485, 0.456, 0.406]\n",
    "std = [0.229, 0.224, 0.225]\n",
    "\n",
    "train_transformer = transforms.Compose([\n",
    "        transforms.Resize((h,w)),\n",
    "        #transforms.RandomHorizontalFlip(p=0.5),\n",
    "        #transforms.RandomAffine(degrees=0,\n",
    "        #                        translate=(0.1,0.1)),\n",
    "        transforms.ToTensor(),\n",
    "        transforms.Normalize(mean, std),\n",
    "])\n",
    "\n",
    "# Create dataset\n",
    "train_ds = FieldsDataset(file_paths=train_np_filepaths, filepath_to_label=filepath_to_label, transform=train_transformer)\n",
    "print(len(train_ds))\n",
    "\n",
    "# Test data trasnform\n",
    "test_transformer = transforms.Compose([\n",
    "    transforms.Resize((h,w)),\n",
    "    transforms.ToTensor(),\n",
    "    transforms.Normalize(mean, std),\n",
    "])\n",
    "\n",
    "test_ds = FieldsDataset(file_paths=test_np_filepaths, filepath_to_label=filepath_to_label, transform=test_transformer)\n",
    "print(len(test_ds))"
   ]
  },
  {
   "cell_type": "code",
   "execution_count": 5,
   "id": "another-steal",
   "metadata": {},
   "outputs": [],
   "source": [
    "device = torch.device(\"cuda:0\" if torch.cuda.is_available() else \"cpu\")"
   ]
  },
  {
   "cell_type": "code",
   "execution_count": 6,
   "id": "raised-driving",
   "metadata": {},
   "outputs": [
    {
     "data": {
      "image/png": "[encoded data removed]",
      "text/plain": [
       "<Figure size 432x288 with 1 Axes>"
      ]
     },
     "metadata": {
      "needs_background": "light"
     },
     "output_type": "display_data"
    }
   ],
   "source": [
    "import matplotlib.pyplot as plt\n",
    "plt.ion()   # interactive mode\n",
    "\n",
    "def imshow(inp, title=None):\n",
    "    \"\"\"Imshow for Tensor.\"\"\"\n",
    "    inp = inp.numpy().transpose((1, 2, 0))\n",
    "    mean = np.array([0.485, 0.456, 0.406])\n",
    "    std = np.array([0.229, 0.224, 0.225])\n",
    "    inp = std * inp + mean\n",
    "    inp = np.clip(inp, 0, 1)\n",
    "    plt.imshow(inp)\n",
    "    if title is not None:\n",
    "        plt.title(title)\n",
    "    plt.pause(0.001)  # pause a bit so that plots are updated\n",
    "\n",
    "\n",
    "# Get a batch of training data\n",
    "img, label = next(iter(train_ds))\n",
    "\n",
    "# Make a grid from batch\n",
    "out = torchvision.utils.make_grid(img)\n",
    "\n",
    "imshow(out, title=label)"
   ]
  },
  {
   "cell_type": "code",
   "execution_count": 7,
   "id": "durable-leeds",
   "metadata": {},
   "outputs": [],
   "source": [
    "# def collate_fn_rnn(batch):\n",
    "#     imgs_batch, label_batch = list(zip(*batch))\n",
    "#     imgs_batch = [imgs for imgs in imgs_batch if len(imgs)>0]\n",
    "#     label_batch = [torch.tensor(l) for l, imgs in zip(label_batch, imgs_batch) if len(imgs)>0]\n",
    "#     imgs_tensor = torch.stack(imgs_batch)\n",
    "#     labels_tensor = torch.stack(label_batch)\n",
    "#     return imgs_tensor,labels_tensor\n",
    "\n",
    "batch_size = 16 # NOTE HERE\n",
    "\n",
    "train_dl = DataLoader(train_ds, batch_size= batch_size, shuffle=False)\n",
    "test_dl = DataLoader(test_ds, batch_size= 2*batch_size, shuffle=False)\n",
    "\n",
    "dataloaders = {}\n",
    "dataloaders['train'] = train_dl\n",
    "dataloaders['val'] = test_dl\n",
    "\n",
    "dataset_sizes = {}\n",
    "dataset_sizes['train'] = len(train_ds)\n",
    "dataset_sizes['val'] = len(test_ds)"
   ]
  },
  {
   "cell_type": "code",
   "execution_count": 8,
   "id": "stuffed-trust",
   "metadata": {},
   "outputs": [
    {
     "name": "stdout",
     "output_type": "stream",
     "text": [
      "tensor([[[[-2.1179, -2.1179, -2.1179,  ..., -2.1179, -2.1179, -2.1179],\n",
      "          [-2.1179, -2.1179, -2.1179,  ..., -2.1179, -2.1179, -2.1179],\n",
      "          [-2.1179, -2.1179, -2.1179,  ..., -2.1179, -2.1179, -2.1179],\n",
      "          ...,\n",
      "          [-2.1179, -2.1179, -2.1179,  ...,  0.6221,  0.6563,  0.6734],\n",
      "          [-2.1179, -2.1179, -2.1179,  ...,  0.6392,  0.6392,  0.6563],\n",
      "          [-2.1179, -2.1179, -2.1179,  ...,  0.6392,  0.6049,  0.6049]],\n",
      "\n",
      "         [[-2.0357, -2.0357, -2.0357,  ..., -2.0357, -2.0357, -2.0357],\n",
      "          [-2.0357, -2.0357, -2.0357,  ..., -2.0357, -2.0357, -2.0357],\n",
      "          [-2.0357, -2.0357, -2.0357,  ..., -2.0357, -2.0357, -2.0357],\n",
      "          ...,\n",
      "          [-2.0357, -2.0357, -2.0357,  ...,  0.2402,  0.2752,  0.3102],\n",
      "          [-2.0357, -2.0357, -2.0357,  ...,  0.2927,  0.2927,  0.2927],\n",
      "          [-2.0357, -2.0357, -2.0357,  ...,  0.2927,  0.2577,  0.2577]],\n",
      "\n",
      "         [[-1.8044, -1.8044, -1.8044,  ..., -1.8044, -1.8044, -1.8044],\n",
      "          [-1.8044, -1.8044, -1.8044,  ..., -1.8044, -1.8044, -1.8044],\n",
      "          [-1.8044, -1.8044, -1.8044,  ..., -1.8044, -1.8044, -1.8044],\n",
      "          ...,\n",
      "          [-1.8044, -1.8044, -1.8044,  ...,  0.0431,  0.0779,  0.1128],\n",
      "          [-1.8044, -1.8044, -1.8044,  ...,  0.0953,  0.0953,  0.0953],\n",
      "          [-1.8044, -1.8044, -1.8044,  ...,  0.0953,  0.0605,  0.0605]]],\n",
      "\n",
      "\n",
      "        [[[-0.1486, -0.1828, -0.2171,  ...,  0.2967,  0.1768,  0.0398],\n",
      "          [-0.1657, -0.1657, -0.1828,  ...,  0.2282,  0.1426, -0.0116],\n",
      "          [-0.1486, -0.1486, -0.1999,  ...,  0.0912,  0.0398, -0.0116],\n",
      "          ...,\n",
      "          [-0.2856, -0.1314, -0.0116,  ...,  0.1254,  0.0912,  0.0227],\n",
      "          [-0.2856, -0.1657, -0.0458,  ...,  0.1254,  0.1083,  0.0569],\n",
      "          [-0.2684, -0.1828, -0.0629,  ...,  0.1083,  0.0912,  0.0569]],\n",
      "\n",
      "         [[ 0.0301, -0.0049, -0.0399,  ...,  0.3627,  0.2402,  0.0826],\n",
      "          [ 0.0126,  0.0126, -0.0049,  ...,  0.2752,  0.1877,  0.0301],\n",
      "          [ 0.0301,  0.0301, -0.0224,  ...,  0.1352,  0.0826,  0.0126],\n",
      "          ...,\n",
      "          [-0.1450, -0.0049,  0.0826,  ...,  0.1702,  0.1352,  0.0651],\n",
      "          [-0.1099, -0.0399,  0.0651,  ...,  0.1702,  0.1527,  0.1001],\n",
      "          [-0.0749, -0.0049,  0.0826,  ...,  0.1527,  0.1352,  0.1001]],\n",
      "\n",
      "         [[-0.2184, -0.2532, -0.2881,  ...,  0.0779, -0.0441, -0.2010],\n",
      "          [-0.2358, -0.2358, -0.2532,  ..., -0.0092, -0.0964, -0.2532],\n",
      "          [-0.2184, -0.2184, -0.2707,  ..., -0.1487, -0.2010, -0.2707],\n",
      "          ...,\n",
      "          [-0.3578, -0.2358, -0.2010,  ..., -0.1138, -0.1487, -0.2184],\n",
      "          [-0.3404, -0.2707, -0.2184,  ..., -0.1138, -0.1312, -0.1835],\n",
      "          [-0.3230, -0.2707, -0.2184,  ..., -0.1312, -0.1487, -0.1835]]],\n",
      "\n",
      "\n",
      "        [[[ 0.6563,  0.6906,  0.7419,  ...,  0.8447,  0.8618,  0.8618],\n",
      "          [ 0.6563,  0.6906,  0.7419,  ...,  0.8447,  0.8618,  0.8618],\n",
      "          [ 0.6392,  0.6906,  0.7248,  ...,  0.8618,  0.8618,  0.8789],\n",
      "          ...,\n",
      "          [ 0.7248,  0.7762,  0.7591,  ...,  0.8618,  0.8447,  0.8789],\n",
      "          [ 0.7419,  0.7933,  0.7762,  ...,  0.8789,  0.8618,  0.8961],\n",
      "          [ 0.7419,  0.8104,  0.7762,  ...,  0.8961,  0.8789,  0.8961]],\n",
      "\n",
      "         [[ 0.2927,  0.3277,  0.3803,  ...,  0.5378,  0.5553,  0.5553],\n",
      "          [ 0.2927,  0.3277,  0.3803,  ...,  0.5378,  0.5553,  0.5553],\n",
      "          [ 0.2752,  0.3277,  0.3627,  ...,  0.5553,  0.5553,  0.5728],\n",
      "          ...,\n",
      "          [ 0.3803,  0.4503,  0.4328,  ...,  0.5028,  0.4853,  0.5028],\n",
      "          [ 0.3978,  0.4678,  0.4503,  ...,  0.5203,  0.5028,  0.5203],\n",
      "          [ 0.4153,  0.4853,  0.4503,  ...,  0.5203,  0.5028,  0.5203]],\n",
      "\n",
      "         [[ 0.2348,  0.2696,  0.3219,  ...,  0.3568,  0.3742,  0.3742],\n",
      "          [ 0.2348,  0.2696,  0.3219,  ...,  0.3568,  0.3742,  0.3742],\n",
      "          [ 0.2173,  0.2696,  0.3045,  ...,  0.3742,  0.3742,  0.3916],\n",
      "          ...,\n",
      "          [ 0.2348,  0.3045,  0.2871,  ...,  0.5136,  0.4962,  0.5311],\n",
      "          [ 0.2522,  0.3219,  0.3045,  ...,  0.5311,  0.5136,  0.5485],\n",
      "          [ 0.2696,  0.3393,  0.3045,  ...,  0.5485,  0.5311,  0.5485]]],\n",
      "\n",
      "\n",
      "        ...,\n",
      "\n",
      "\n",
      "        [[[ 0.5193,  0.7248,  0.6221,  ...,  0.5364,  0.6049,  0.7591],\n",
      "          [ 0.5193,  0.6906,  0.5878,  ...,  0.4166,  0.4679,  0.6563],\n",
      "          [ 0.5364,  0.7762,  0.6906,  ...,  0.4337,  0.4679,  0.6392],\n",
      "          ...,\n",
      "          [ 0.4851,  0.5536,  0.5364,  ...,  0.5022,  0.6049,  0.4851],\n",
      "          [ 0.4679,  0.5364,  0.5193,  ...,  0.4851,  0.5878,  0.5022],\n",
      "          [ 0.4508,  0.5022,  0.5364,  ...,  0.4851,  0.6221,  0.5536]],\n",
      "\n",
      "         [[ 0.2577,  0.4678,  0.3627,  ...,  0.2752,  0.3102,  0.4678],\n",
      "          [ 0.2577,  0.4328,  0.3277,  ...,  0.1527,  0.1702,  0.3627],\n",
      "          [ 0.2752,  0.5203,  0.4328,  ...,  0.1702,  0.1702,  0.3452],\n",
      "          ...,\n",
      "          [ 0.2752,  0.3452,  0.3277,  ...,  0.2227,  0.3277,  0.2052],\n",
      "          [ 0.2752,  0.3452,  0.3277,  ...,  0.2052,  0.3102,  0.2227],\n",
      "          [ 0.2577,  0.3102,  0.3452,  ...,  0.2052,  0.3452,  0.2752]],\n",
      "\n",
      "         [[-0.0615,  0.1476,  0.0431,  ..., -0.0615, -0.0092,  0.1476],\n",
      "          [-0.0615,  0.1128,  0.0082,  ..., -0.1835, -0.1487,  0.0431],\n",
      "          [-0.0441,  0.1999,  0.1128,  ..., -0.1661, -0.1487,  0.0256],\n",
      "          ...,\n",
      "          [-0.0267,  0.0082,  0.0082,  ..., -0.0441,  0.0605, -0.0615],\n",
      "          [-0.0441,  0.0082, -0.0092,  ..., -0.0615,  0.0431, -0.0441],\n",
      "          [-0.0615, -0.0267,  0.0082,  ..., -0.0615,  0.0779,  0.0082]]],\n",
      "\n",
      "\n",
      "        [[[-2.1179, -2.1179, -2.1179,  ..., -2.1179, -2.1179, -2.1179],\n",
      "          [-2.1179, -2.1179, -2.1179,  ..., -2.1179, -2.1179, -2.1179],\n",
      "          [-2.1179, -2.1179, -2.1179,  ..., -2.1179, -2.1179, -2.1179],\n",
      "          ...,\n",
      "          [-2.1179, -2.1179, -2.1179,  ...,  0.6221,  0.6563,  0.6734],\n",
      "          [-2.1179, -2.1179, -2.1179,  ...,  0.6392,  0.6392,  0.6563],\n",
      "          [-2.1179, -2.1179, -2.1179,  ...,  0.6392,  0.6049,  0.6049]],\n",
      "\n",
      "         [[-2.0357, -2.0357, -2.0357,  ..., -2.0357, -2.0357, -2.0357],\n",
      "          [-2.0357, -2.0357, -2.0357,  ..., -2.0357, -2.0357, -2.0357],\n",
      "          [-2.0357, -2.0357, -2.0357,  ..., -2.0357, -2.0357, -2.0357],\n",
      "          ...,\n",
      "          [-2.0357, -2.0357, -2.0357,  ...,  0.2402,  0.2752,  0.3102],\n",
      "          [-2.0357, -2.0357, -2.0357,  ...,  0.2927,  0.2927,  0.2927],\n",
      "          [-2.0357, -2.0357, -2.0357,  ...,  0.2927,  0.2577,  0.2577]],\n",
      "\n",
      "         [[-1.8044, -1.8044, -1.8044,  ..., -1.8044, -1.8044, -1.8044],\n",
      "          [-1.8044, -1.8044, -1.8044,  ..., -1.8044, -1.8044, -1.8044],\n",
      "          [-1.8044, -1.8044, -1.8044,  ..., -1.8044, -1.8044, -1.8044],\n",
      "          ...,\n",
      "          [-1.8044, -1.8044, -1.8044,  ...,  0.0431,  0.0779,  0.1128],\n",
      "          [-1.8044, -1.8044, -1.8044,  ...,  0.0953,  0.0953,  0.0953],\n",
      "          [-1.8044, -1.8044, -1.8044,  ...,  0.0953,  0.0605,  0.0605]]],\n",
      "\n",
      "\n",
      "        [[[-2.1179, -2.1179, -2.1179,  ..., -0.2513, -0.2513, -0.2171],\n",
      "          [-2.1179, -2.1179, -2.1179,  ..., -0.1999, -0.1999, -0.1828],\n",
      "          [-2.1179, -2.1179, -2.1179,  ..., -0.1828, -0.1314, -0.1657],\n",
      "          ...,\n",
      "          [-2.1179, -2.1179, -2.1179,  ...,  0.2282,  0.3309,  0.3994],\n",
      "          [-2.1179, -2.1179, -2.1179,  ...,  0.2111,  0.2796,  0.3823],\n",
      "          [-2.1179, -2.1179, -2.1179,  ...,  0.1939,  0.1768,  0.2624]],\n",
      "\n",
      "         [[-2.0357, -2.0357, -2.0357,  ..., -0.3725, -0.3725, -0.3375],\n",
      "          [-2.0357, -2.0357, -2.0357,  ..., -0.3550, -0.3200, -0.3375],\n",
      "          [-2.0357, -2.0357, -2.0357,  ..., -0.3375, -0.2850, -0.3200],\n",
      "          ...,\n",
      "          [-2.0357, -2.0357, -2.0357,  ..., -0.0924,  0.0126,  0.0651],\n",
      "          [-2.0357, -2.0357, -2.0357,  ..., -0.0924, -0.0224,  0.0476],\n",
      "          [-2.0357, -2.0357, -2.0357,  ..., -0.1275, -0.1625, -0.0749]],\n",
      "\n",
      "         [[-1.8044, -1.8044, -1.8044,  ..., -0.6018, -0.6018, -0.5670],\n",
      "          [-1.8044, -1.8044, -1.8044,  ..., -0.5670, -0.5495, -0.5495],\n",
      "          [-1.8044, -1.8044, -1.8044,  ..., -0.5495, -0.4973, -0.5321],\n",
      "          ...,\n",
      "          [-1.8044, -1.8044, -1.8044,  ..., -0.3578, -0.2532, -0.2184],\n",
      "          [-1.8044, -1.8044, -1.8044,  ..., -0.3927, -0.3230, -0.2358],\n",
      "          [-1.8044, -1.8044, -1.8044,  ..., -0.4275, -0.4624, -0.3578]]]])\n",
      "tensor([3, 1, 1, 1, 2, 1, 1, 1, 1, 1, 1, 1, 1, 1, 3, 3])\n"
     ]
    }
   ],
   "source": [
    "# Get a batch of training data\n",
    "inputs, label_idxes = next(iter(dataloaders['train']))\n",
    "\n",
    "print(inputs)\n",
    "print(label_idxes)\n",
    "\n",
    "#Make a grid from batch\n",
    "#out = torchvision.utils.make_grid(inputs)\n",
    "\n",
    "#imshow(out, title=[idx_to_label[x] for x in label_idxes])"
   ]
  },
  {
   "cell_type": "code",
   "execution_count": 9,
   "id": "dutch-biodiversity",
   "metadata": {},
   "outputs": [],
   "source": [
    "from tqdm import notebook\n",
    "\n",
    "def train_model(model, criterion, optimizer, scheduler, num_epochs=25):\n",
    "    since = time.time()\n",
    "\n",
    "    best_model_wts = copy.deepcopy(model.state_dict())\n",
    "    best_acc = 0.0\n",
    "\n",
    "    for epoch in range(num_epochs):\n",
    "        print('Epoch {}/{}'.format(epoch, num_epochs - 1))\n",
    "        print('-' * 10)\n",
    "\n",
    "        # Each epoch has a training and validation phase\n",
    "        for phase in ['train', 'val']:\n",
    "            if phase == 'train':\n",
    "                model.train()  # Set model to training mode\n",
    "            else:\n",
    "                model.eval()   # Set model to evaluate mode\n",
    "\n",
    "            running_loss = 0.0\n",
    "            running_corrects = 0\n",
    "\n",
    "            # Iterate over data.\n",
    "            for inputs, labels in notebook.tqdm(dataloaders[phase]):\n",
    "                inputs = inputs.to(device)\n",
    "                labels = labels.to(device)\n",
    "\n",
    "                # zero the parameter gradients\n",
    "                optimizer.zero_grad()\n",
    "\n",
    "                # forward\n",
    "                # track history if only in train\n",
    "                with torch.set_grad_enabled(phase == 'train'):\n",
    "                    outputs = model(inputs)\n",
    "                    _, preds = torch.max(outputs, 1)\n",
    "                    loss = criterion(outputs, labels)\n",
    "\n",
    "                    # backward + optimize only if in training phase\n",
    "                    if phase == 'train':\n",
    "                        loss.backward()\n",
    "                        optimizer.step()\n",
    "\n",
    "                # statistics\n",
    "                running_loss += loss.item() * inputs.size(0)\n",
    "                running_corrects += torch.sum(preds == labels.data)\n",
    "\n",
    "            if phase == 'train':\n",
    "                scheduler.step()\n",
    "                \n",
    "            epoch_loss = running_loss / dataset_sizes[phase]\n",
    "            epoch_acc = running_corrects.double() / dataset_sizes[phase]\n",
    "\n",
    "            print('{} Loss: {:.4f} Acc: {:.4f}'.format(\n",
    "                phase, epoch_loss, epoch_acc))\n",
    "\n",
    "            # deep copy the model\n",
    "            if phase == 'val' and epoch_acc > best_acc:\n",
    "                best_acc = epoch_acc\n",
    "                best_model_wts = copy.deepcopy(model.state_dict())\n",
    "                \n",
    "                torch.save(model.state_dict(), \"./models/weights_classification.pt\")\n",
    "                print(\"Copied best model weights!\")\n",
    "\n",
    "        print()\n",
    "\n",
    "    time_elapsed = time.time() - since\n",
    "    print('Training complete in {:.0f}m {:.0f}s'.format(\n",
    "        time_elapsed // 60, time_elapsed % 60))\n",
    "    print('Best val Acc: {:4f}'.format(best_acc))\n",
    "\n",
    "    # load best model weights\n",
    "    model.load_state_dict(best_model_wts)\n",
    "    return model"
   ]
  },
  {
   "cell_type": "code",
   "execution_count": 17,
   "id": "sophisticated-cambodia",
   "metadata": {},
   "outputs": [],
   "source": [
    "def visualize_model(model, num_images=6):\n",
    "    was_training = model.training\n",
    "    model.eval()\n",
    "    images_so_far = 0\n",
    "    fig = plt.figure()\n",
    "\n",
    "    with torch.no_grad():\n",
    "        for i, (inputs, label_idxs) in enumerate(dataloaders['val']):\n",
    "            print(inputs)\n",
    "            inputs = inputs.to(device)\n",
    "            label_idxs = label_idxs.to(device)\n",
    "\n",
    "            outputs = model(inputs)\n",
    "            _, preds = torch.max(outputs, 1)\n",
    "            \n",
    "            outputs11 = torch.sigmoid(outputs)\n",
    "#             outputs11[outputs11 >= 0.5] = 1\n",
    "            outputs11[outputs11 < 0.5] = 0\n",
    "            print(idx_to_label)\n",
    "            print(outputs11)\n",
    "            #outputs[outputs >= 0.5] = 1\n",
    "\n",
    "            for j in range(inputs.size()[0]):\n",
    "                images_so_far += 1\n",
    "                ax = plt.subplot(num_images//2, 2, images_so_far)\n",
    "                ax.axis('off')\n",
    "                ax.set_title('pr: {} | tr: {}'.format(labels[preds[j]], labels[label_idxs[j]]))\n",
    "                imshow(inputs.cpu().data[j])\n",
    "\n",
    "                if images_so_far == num_images:\n",
    "                    model.train(mode=was_training)\n",
    "                    return\n",
    "        model.train(mode=was_training)"
   ]
  },
  {
   "cell_type": "code",
   "execution_count": 11,
   "id": "wicked-sector",
   "metadata": {},
   "outputs": [],
   "source": [
    "from torchvision import datasets, models, transforms\n",
    "import torch.nn as nn\n",
    "import torch.optim as optim\n",
    "from torch.optim import lr_scheduler\n",
    "\n",
    "model_ft = models.resnet18(pretrained=True)\n",
    "num_ftrs = model_ft.fc.in_features\n",
    "# Here the size of each output sample is set to 2.\n",
    "# Alternatively, it can be generalized to nn.Linear(num_ftrs, len(class_names)).\n",
    "model_ft.fc = nn.Linear(num_ftrs, len(labels))\n",
    "\n",
    "model_ft = model_ft.to(device)\n",
    "\n",
    "criterion = nn.CrossEntropyLoss()\n",
    "\n",
    "# Observe that all parameters are being optimized\n",
    "optimizer_ft = optim.SGD(model_ft.parameters(), lr=0.001, momentum=0.9)\n",
    "\n",
    "# Decay LR by a factor of 0.1 every 7 epochs\n",
    "exp_lr_scheduler = lr_scheduler.StepLR(optimizer_ft, step_size=7, gamma=0.1)"
   ]
  },
  {
   "cell_type": "code",
   "execution_count": 12,
   "id": "discrete-gibson",
   "metadata": {},
   "outputs": [],
   "source": [
    "import time\n",
    "import copy"
   ]
  },
  {
   "cell_type": "code",
   "execution_count": 13,
   "id": "worthy-residence",
   "metadata": {},
   "outputs": [
    {
     "name": "stdout",
     "output_type": "stream",
     "text": [
      "Epoch 0/24\n",
      "----------\n"
     ]
    },
    {
     "data": {
      "application/vnd.jupyter.widget-view+json": {
       "model_id": "57eacfec1ba145a08bdfc12533def2df",
       "version_major": 2,
       "version_minor": 0
      },
      "text/plain": [
       "  0%|          | 0/426 [00:00<?, ?it/s]"
      ]
     },
     "metadata": {},
     "output_type": "display_data"
    },
    {
     "name": "stdout",
     "output_type": "stream",
     "text": [
      "train Loss: 0.3902 Acc: 0.8776\n"
     ]
    },
    {
     "data": {
      "application/vnd.jupyter.widget-view+json": {
       "model_id": "a6139deef5164339bd8fe5e45ef83d6c",
       "version_major": 2,
       "version_minor": 0
      },
      "text/plain": [
       "  0%|          | 0/24 [00:00<?, ?it/s]"
      ]
     },
     "metadata": {},
     "output_type": "display_data"
    },
    {
     "name": "stdout",
     "output_type": "stream",
     "text": [
      "val Loss: 0.3194 Acc: 0.8771\n",
      "Copied best model weights!\n",
      "\n",
      "Epoch 1/24\n",
      "----------\n"
     ]
    },
    {
     "data": {
      "application/vnd.jupyter.widget-view+json": {
       "model_id": "194364e8c559449a920e3038e3f47ba4",
       "version_major": 2,
       "version_minor": 0
      },
      "text/plain": [
       "  0%|          | 0/426 [00:00<?, ?it/s]"
      ]
     },
     "metadata": {},
     "output_type": "display_data"
    },
    {
     "name": "stdout",
     "output_type": "stream",
     "text": [
      "train Loss: 0.2552 Acc: 0.9011\n"
     ]
    },
    {
     "data": {
      "application/vnd.jupyter.widget-view+json": {
       "model_id": "9bacd3a0983544d6ab74f4a741bcf018",
       "version_major": 2,
       "version_minor": 0
      },
      "text/plain": [
       "  0%|          | 0/24 [00:00<?, ?it/s]"
      ]
     },
     "metadata": {},
     "output_type": "display_data"
    },
    {
     "name": "stdout",
     "output_type": "stream",
     "text": [
      "val Loss: 0.3088 Acc: 0.8824\n",
      "Copied best model weights!\n",
      "\n",
      "Epoch 2/24\n",
      "----------\n"
     ]
    },
    {
     "data": {
      "application/vnd.jupyter.widget-view+json": {
       "model_id": "35e9fdbe3d06486ea21bb22c55774b4f",
       "version_major": 2,
       "version_minor": 0
      },
      "text/plain": [
       "  0%|          | 0/426 [00:00<?, ?it/s]"
      ]
     },
     "metadata": {},
     "output_type": "display_data"
    },
    {
     "name": "stdout",
     "output_type": "stream",
     "text": [
      "train Loss: 0.1444 Acc: 0.9433\n"
     ]
    },
    {
     "data": {
      "application/vnd.jupyter.widget-view+json": {
       "model_id": "9580295ed18c4c9c82f6dd7da98f37a5",
       "version_major": 2,
       "version_minor": 0
      },
      "text/plain": [
       "  0%|          | 0/24 [00:00<?, ?it/s]"
      ]
     },
     "metadata": {},
     "output_type": "display_data"
    },
    {
     "name": "stdout",
     "output_type": "stream",
     "text": [
      "val Loss: 0.3262 Acc: 0.8811\n",
      "\n",
      "Epoch 3/24\n",
      "----------\n"
     ]
    },
    {
     "data": {
      "application/vnd.jupyter.widget-view+json": {
       "model_id": "ea838fb69cf640a4b727b48347c6feaf",
       "version_major": 2,
       "version_minor": 0
      },
      "text/plain": [
       "  0%|          | 0/426 [00:00<?, ?it/s]"
      ]
     },
     "metadata": {},
     "output_type": "display_data"
    },
    {
     "name": "stdout",
     "output_type": "stream",
     "text": [
      "train Loss: 0.0776 Acc: 0.9733\n"
     ]
    },
    {
     "data": {
      "application/vnd.jupyter.widget-view+json": {
       "model_id": "6b23ac0b4d04462ab81a9e935ed75848",
       "version_major": 2,
       "version_minor": 0
      },
      "text/plain": [
       "  0%|          | 0/24 [00:00<?, ?it/s]"
      ]
     },
     "metadata": {},
     "output_type": "display_data"
    },
    {
     "name": "stdout",
     "output_type": "stream",
     "text": [
      "val Loss: 0.3068 Acc: 0.9049\n",
      "Copied best model weights!\n",
      "\n",
      "Epoch 4/24\n",
      "----------\n"
     ]
    },
    {
     "data": {
      "application/vnd.jupyter.widget-view+json": {
       "model_id": "acfe4eb8ee054c5abae332a70c6a9e11",
       "version_major": 2,
       "version_minor": 0
      },
      "text/plain": [
       "  0%|          | 0/426 [00:00<?, ?it/s]"
      ]
     },
     "metadata": {},
     "output_type": "display_data"
    },
    {
     "name": "stdout",
     "output_type": "stream",
     "text": [
      "train Loss: 0.0628 Acc: 0.9780\n"
     ]
    },
    {
     "data": {
      "application/vnd.jupyter.widget-view+json": {
       "model_id": "53a86e6d63b346b084a0d9560a8ad073",
       "version_major": 2,
       "version_minor": 0
      },
      "text/plain": [
       "  0%|          | 0/24 [00:00<?, ?it/s]"
      ]
     },
     "metadata": {},
     "output_type": "display_data"
    },
    {
     "name": "stdout",
     "output_type": "stream",
     "text": [
      "val Loss: 0.3242 Acc: 0.9009\n",
      "\n",
      "Epoch 5/24\n",
      "----------\n"
     ]
    },
    {
     "data": {
      "application/vnd.jupyter.widget-view+json": {
       "model_id": "9ce6b5da5bea47fabe6d8384157fd7fb",
       "version_major": 2,
       "version_minor": 0
      },
      "text/plain": [
       "  0%|          | 0/426 [00:00<?, ?it/s]"
      ]
     },
     "metadata": {},
     "output_type": "display_data"
    },
    {
     "name": "stdout",
     "output_type": "stream",
     "text": [
      "train Loss: 0.0401 Acc: 0.9850\n"
     ]
    },
    {
     "data": {
      "application/vnd.jupyter.widget-view+json": {
       "model_id": "ef3e74c60cc34dfda7772d9efac3c8ae",
       "version_major": 2,
       "version_minor": 0
      },
      "text/plain": [
       "  0%|          | 0/24 [00:00<?, ?it/s]"
      ]
     },
     "metadata": {},
     "output_type": "display_data"
    },
    {
     "name": "stdout",
     "output_type": "stream",
     "text": [
      "val Loss: 0.3350 Acc: 0.8983\n",
      "\n",
      "Epoch 6/24\n",
      "----------\n"
     ]
    },
    {
     "data": {
      "application/vnd.jupyter.widget-view+json": {
       "model_id": "cd7080fefd4d4d3b99b89b2dd1b468e3",
       "version_major": 2,
       "version_minor": 0
      },
      "text/plain": [
       "  0%|          | 0/426 [00:00<?, ?it/s]"
      ]
     },
     "metadata": {},
     "output_type": "display_data"
    },
    {
     "name": "stdout",
     "output_type": "stream",
     "text": [
      "train Loss: 0.0375 Acc: 0.9872\n"
     ]
    },
    {
     "data": {
      "application/vnd.jupyter.widget-view+json": {
       "model_id": "82e1613f919745e0aab7d914fccc38e2",
       "version_major": 2,
       "version_minor": 0
      },
      "text/plain": [
       "  0%|          | 0/24 [00:00<?, ?it/s]"
      ]
     },
     "metadata": {},
     "output_type": "display_data"
    },
    {
     "name": "stdout",
     "output_type": "stream",
     "text": [
      "val Loss: 0.3472 Acc: 0.9049\n",
      "\n",
      "Epoch 7/24\n",
      "----------\n"
     ]
    },
    {
     "data": {
      "application/vnd.jupyter.widget-view+json": {
       "model_id": "099bcb61a5224089b2cbc0da0ed4695b",
       "version_major": 2,
       "version_minor": 0
      },
      "text/plain": [
       "  0%|          | 0/426 [00:00<?, ?it/s]"
      ]
     },
     "metadata": {},
     "output_type": "display_data"
    },
    {
     "name": "stdout",
     "output_type": "stream",
     "text": [
      "train Loss: 0.0290 Acc: 0.9916\n"
     ]
    },
    {
     "data": {
      "application/vnd.jupyter.widget-view+json": {
       "model_id": "f8a9b5ad4dc04f7097c3c49783405181",
       "version_major": 2,
       "version_minor": 0
      },
      "text/plain": [
       "  0%|          | 0/24 [00:00<?, ?it/s]"
      ]
     },
     "metadata": {},
     "output_type": "display_data"
    },
    {
     "name": "stdout",
     "output_type": "stream",
     "text": [
      "val Loss: 0.3011 Acc: 0.9115\n",
      "Copied best model weights!\n",
      "\n",
      "Epoch 8/24\n",
      "----------\n"
     ]
    },
    {
     "data": {
      "application/vnd.jupyter.widget-view+json": {
       "model_id": "3dfa726d85d1439187a84b50dfbc3083",
       "version_major": 2,
       "version_minor": 0
      },
      "text/plain": [
       "  0%|          | 0/426 [00:00<?, ?it/s]"
      ]
     },
     "metadata": {},
     "output_type": "display_data"
    },
    {
     "name": "stdout",
     "output_type": "stream",
     "text": [
      "train Loss: 0.0152 Acc: 0.9971\n"
     ]
    },
    {
     "data": {
      "application/vnd.jupyter.widget-view+json": {
       "model_id": "da2ad28737814f939c3166179fc80737",
       "version_major": 2,
       "version_minor": 0
      },
      "text/plain": [
       "  0%|          | 0/24 [00:00<?, ?it/s]"
      ]
     },
     "metadata": {},
     "output_type": "display_data"
    },
    {
     "name": "stdout",
     "output_type": "stream",
     "text": [
      "val Loss: 0.2989 Acc: 0.9168\n",
      "Copied best model weights!\n",
      "\n",
      "Epoch 9/24\n",
      "----------\n"
     ]
    },
    {
     "data": {
      "application/vnd.jupyter.widget-view+json": {
       "model_id": "7686cbb6d1e6452290d818b8d0586e21",
       "version_major": 2,
       "version_minor": 0
      },
      "text/plain": [
       "  0%|          | 0/426 [00:00<?, ?it/s]"
      ]
     },
     "metadata": {},
     "output_type": "display_data"
    },
    {
     "name": "stdout",
     "output_type": "stream",
     "text": [
      "train Loss: 0.0113 Acc: 0.9982\n"
     ]
    },
    {
     "data": {
      "application/vnd.jupyter.widget-view+json": {
       "model_id": "868821a261d14e09806256571d2de5d3",
       "version_major": 2,
       "version_minor": 0
      },
      "text/plain": [
       "  0%|          | 0/24 [00:00<?, ?it/s]"
      ]
     },
     "metadata": {},
     "output_type": "display_data"
    },
    {
     "name": "stdout",
     "output_type": "stream",
     "text": [
      "val Loss: 0.3017 Acc: 0.9194\n",
      "Copied best model weights!\n",
      "\n",
      "Epoch 10/24\n",
      "----------\n"
     ]
    },
    {
     "data": {
      "application/vnd.jupyter.widget-view+json": {
       "model_id": "c84559a5e6764739add566312c071f2a",
       "version_major": 2,
       "version_minor": 0
      },
      "text/plain": [
       "  0%|          | 0/426 [00:00<?, ?it/s]"
      ]
     },
     "metadata": {},
     "output_type": "display_data"
    },
    {
     "name": "stdout",
     "output_type": "stream",
     "text": [
      "train Loss: 0.0092 Acc: 0.9991\n"
     ]
    },
    {
     "data": {
      "application/vnd.jupyter.widget-view+json": {
       "model_id": "0cc70acd49c04b37b298c2f40e10fd2c",
       "version_major": 2,
       "version_minor": 0
      },
      "text/plain": [
       "  0%|          | 0/24 [00:00<?, ?it/s]"
      ]
     },
     "metadata": {},
     "output_type": "display_data"
    },
    {
     "name": "stdout",
     "output_type": "stream",
     "text": [
      "val Loss: 0.3045 Acc: 0.9207\n",
      "Copied best model weights!\n",
      "\n",
      "Epoch 11/24\n",
      "----------\n"
     ]
    },
    {
     "data": {
      "application/vnd.jupyter.widget-view+json": {
       "model_id": "3302a39236b04e61863143788b1425f8",
       "version_major": 2,
       "version_minor": 0
      },
      "text/plain": [
       "  0%|          | 0/426 [00:00<?, ?it/s]"
      ]
     },
     "metadata": {},
     "output_type": "display_data"
    },
    {
     "name": "stdout",
     "output_type": "stream",
     "text": [
      "train Loss: 0.0076 Acc: 0.9994\n"
     ]
    },
    {
     "data": {
      "application/vnd.jupyter.widget-view+json": {
       "model_id": "7dc7ce779dc349e38674f8570fc464ae",
       "version_major": 2,
       "version_minor": 0
      },
      "text/plain": [
       "  0%|          | 0/24 [00:00<?, ?it/s]"
      ]
     },
     "metadata": {},
     "output_type": "display_data"
    },
    {
     "name": "stdout",
     "output_type": "stream",
     "text": [
      "val Loss: 0.3077 Acc: 0.9221\n",
      "Copied best model weights!\n",
      "\n",
      "Epoch 12/24\n",
      "----------\n"
     ]
    },
    {
     "data": {
      "application/vnd.jupyter.widget-view+json": {
       "model_id": "077aa69666f64d8ba54b662b06822774",
       "version_major": 2,
       "version_minor": 0
      },
      "text/plain": [
       "  0%|          | 0/426 [00:00<?, ?it/s]"
      ]
     },
     "metadata": {},
     "output_type": "display_data"
    },
    {
     "name": "stdout",
     "output_type": "stream",
     "text": [
      "train Loss: 0.0064 Acc: 0.9999\n"
     ]
    },
    {
     "data": {
      "application/vnd.jupyter.widget-view+json": {
       "model_id": "2b0e1b3fae57462f90b35a34f9b79924",
       "version_major": 2,
       "version_minor": 0
      },
      "text/plain": [
       "  0%|          | 0/24 [00:00<?, ?it/s]"
      ]
     },
     "metadata": {},
     "output_type": "display_data"
    },
    {
     "name": "stdout",
     "output_type": "stream",
     "text": [
      "val Loss: 0.3111 Acc: 0.9221\n",
      "\n",
      "Epoch 13/24\n",
      "----------\n"
     ]
    },
    {
     "data": {
      "application/vnd.jupyter.widget-view+json": {
       "model_id": "b4dc1565fb714d2aae869dbea17e5009",
       "version_major": 2,
       "version_minor": 0
      },
      "text/plain": [
       "  0%|          | 0/426 [00:00<?, ?it/s]"
      ]
     },
     "metadata": {},
     "output_type": "display_data"
    },
    {
     "name": "stdout",
     "output_type": "stream",
     "text": [
      "train Loss: 0.0055 Acc: 0.9999\n"
     ]
    },
    {
     "data": {
      "application/vnd.jupyter.widget-view+json": {
       "model_id": "677bac83536046e6a7910b09f1fb993b",
       "version_major": 2,
       "version_minor": 0
      },
      "text/plain": [
       "  0%|          | 0/24 [00:00<?, ?it/s]"
      ]
     },
     "metadata": {},
     "output_type": "display_data"
    },
    {
     "name": "stdout",
     "output_type": "stream",
     "text": [
      "val Loss: 0.3144 Acc: 0.9221\n",
      "\n",
      "Epoch 14/24\n",
      "----------\n"
     ]
    },
    {
     "data": {
      "application/vnd.jupyter.widget-view+json": {
       "model_id": "5f018b77c6d041e8bca8d8d5ad284fd2",
       "version_major": 2,
       "version_minor": 0
      },
      "text/plain": [
       "  0%|          | 0/426 [00:00<?, ?it/s]"
      ]
     },
     "metadata": {},
     "output_type": "display_data"
    },
    {
     "name": "stdout",
     "output_type": "stream",
     "text": [
      "train Loss: 0.0047 Acc: 1.0000\n"
     ]
    },
    {
     "data": {
      "application/vnd.jupyter.widget-view+json": {
       "model_id": "a62437b452f641518aa17578a1390b07",
       "version_major": 2,
       "version_minor": 0
      },
      "text/plain": [
       "  0%|          | 0/24 [00:00<?, ?it/s]"
      ]
     },
     "metadata": {},
     "output_type": "display_data"
    },
    {
     "name": "stdout",
     "output_type": "stream",
     "text": [
      "val Loss: 0.3145 Acc: 0.9221\n",
      "\n",
      "Epoch 15/24\n",
      "----------\n"
     ]
    },
    {
     "data": {
      "application/vnd.jupyter.widget-view+json": {
       "model_id": "3039e3c0f2534828abf82d655b8960e7",
       "version_major": 2,
       "version_minor": 0
      },
      "text/plain": [
       "  0%|          | 0/426 [00:00<?, ?it/s]"
      ]
     },
     "metadata": {},
     "output_type": "display_data"
    },
    {
     "name": "stdout",
     "output_type": "stream",
     "text": [
      "train Loss: 0.0047 Acc: 1.0000\n"
     ]
    },
    {
     "data": {
      "application/vnd.jupyter.widget-view+json": {
       "model_id": "fc62289bd36d4e23be9e4bf950a5370a",
       "version_major": 2,
       "version_minor": 0
      },
      "text/plain": [
       "  0%|          | 0/24 [00:00<?, ?it/s]"
      ]
     },
     "metadata": {},
     "output_type": "display_data"
    },
    {
     "name": "stdout",
     "output_type": "stream",
     "text": [
      "val Loss: 0.3147 Acc: 0.9221\n",
      "\n",
      "Epoch 16/24\n",
      "----------\n"
     ]
    },
    {
     "data": {
      "application/vnd.jupyter.widget-view+json": {
       "model_id": "d7b3faae06ca4b61ba4be07b2e94e0e8",
       "version_major": 2,
       "version_minor": 0
      },
      "text/plain": [
       "  0%|          | 0/426 [00:00<?, ?it/s]"
      ]
     },
     "metadata": {},
     "output_type": "display_data"
    },
    {
     "name": "stdout",
     "output_type": "stream",
     "text": [
      "train Loss: 0.0046 Acc: 1.0000\n"
     ]
    },
    {
     "data": {
      "application/vnd.jupyter.widget-view+json": {
       "model_id": "0549e12fa3024dc8ab4e259070ec5f01",
       "version_major": 2,
       "version_minor": 0
      },
      "text/plain": [
       "  0%|          | 0/24 [00:00<?, ?it/s]"
      ]
     },
     "metadata": {},
     "output_type": "display_data"
    },
    {
     "name": "stdout",
     "output_type": "stream",
     "text": [
      "val Loss: 0.3150 Acc: 0.9234\n",
      "Copied best model weights!\n",
      "\n",
      "Epoch 17/24\n",
      "----------\n"
     ]
    },
    {
     "data": {
      "application/vnd.jupyter.widget-view+json": {
       "model_id": "c4c2ebbdd886463b890e66ae92d7cb2e",
       "version_major": 2,
       "version_minor": 0
      },
      "text/plain": [
       "  0%|          | 0/426 [00:00<?, ?it/s]"
      ]
     },
     "metadata": {},
     "output_type": "display_data"
    },
    {
     "name": "stdout",
     "output_type": "stream",
     "text": [
      "train Loss: 0.0045 Acc: 1.0000\n"
     ]
    },
    {
     "data": {
      "application/vnd.jupyter.widget-view+json": {
       "model_id": "0bfb4f116af84a979475605ded7f4ff0",
       "version_major": 2,
       "version_minor": 0
      },
      "text/plain": [
       "  0%|          | 0/24 [00:00<?, ?it/s]"
      ]
     },
     "metadata": {},
     "output_type": "display_data"
    },
    {
     "name": "stdout",
     "output_type": "stream",
     "text": [
      "val Loss: 0.3152 Acc: 0.9234\n",
      "\n",
      "Epoch 18/24\n",
      "----------\n"
     ]
    },
    {
     "data": {
      "application/vnd.jupyter.widget-view+json": {
       "model_id": "fcdacbf0af3349e9a3eac3197006c8cb",
       "version_major": 2,
       "version_minor": 0
      },
      "text/plain": [
       "  0%|          | 0/426 [00:00<?, ?it/s]"
      ]
     },
     "metadata": {},
     "output_type": "display_data"
    },
    {
     "name": "stdout",
     "output_type": "stream",
     "text": [
      "train Loss: 0.0045 Acc: 1.0000\n"
     ]
    },
    {
     "data": {
      "application/vnd.jupyter.widget-view+json": {
       "model_id": "460e38b02f8a4b3ba7f832d6a0489e65",
       "version_major": 2,
       "version_minor": 0
      },
      "text/plain": [
       "  0%|          | 0/24 [00:00<?, ?it/s]"
      ]
     },
     "metadata": {},
     "output_type": "display_data"
    },
    {
     "name": "stdout",
     "output_type": "stream",
     "text": [
      "val Loss: 0.3154 Acc: 0.9234\n",
      "\n",
      "Epoch 19/24\n",
      "----------\n"
     ]
    },
    {
     "data": {
      "application/vnd.jupyter.widget-view+json": {
       "model_id": "df35dd4a50f14024b84ab1b2c6a69698",
       "version_major": 2,
       "version_minor": 0
      },
      "text/plain": [
       "  0%|          | 0/426 [00:00<?, ?it/s]"
      ]
     },
     "metadata": {},
     "output_type": "display_data"
    },
    {
     "name": "stdout",
     "output_type": "stream",
     "text": [
      "train Loss: 0.0044 Acc: 1.0000\n"
     ]
    },
    {
     "data": {
      "application/vnd.jupyter.widget-view+json": {
       "model_id": "5704c8ce43dc44a4a8ff5f57c8bb3d49",
       "version_major": 2,
       "version_minor": 0
      },
      "text/plain": [
       "  0%|          | 0/24 [00:00<?, ?it/s]"
      ]
     },
     "metadata": {},
     "output_type": "display_data"
    },
    {
     "name": "stdout",
     "output_type": "stream",
     "text": [
      "val Loss: 0.3157 Acc: 0.9234\n",
      "\n",
      "Epoch 20/24\n",
      "----------\n"
     ]
    },
    {
     "data": {
      "application/vnd.jupyter.widget-view+json": {
       "model_id": "6d3078e4ae3f4500adbe8d25aa7c6e90",
       "version_major": 2,
       "version_minor": 0
      },
      "text/plain": [
       "  0%|          | 0/426 [00:00<?, ?it/s]"
      ]
     },
     "metadata": {},
     "output_type": "display_data"
    },
    {
     "name": "stdout",
     "output_type": "stream",
     "text": [
      "train Loss: 0.0044 Acc: 1.0000\n"
     ]
    },
    {
     "data": {
      "application/vnd.jupyter.widget-view+json": {
       "model_id": "682143a86a894b9698d5c0b17f22de23",
       "version_major": 2,
       "version_minor": 0
      },
      "text/plain": [
       "  0%|          | 0/24 [00:00<?, ?it/s]"
      ]
     },
     "metadata": {},
     "output_type": "display_data"
    },
    {
     "name": "stdout",
     "output_type": "stream",
     "text": [
      "val Loss: 0.3159 Acc: 0.9234\n",
      "\n",
      "Epoch 21/24\n",
      "----------\n"
     ]
    },
    {
     "data": {
      "application/vnd.jupyter.widget-view+json": {
       "model_id": "9e681c9f747b4f92a61aa2e3cb23be41",
       "version_major": 2,
       "version_minor": 0
      },
      "text/plain": [
       "  0%|          | 0/426 [00:00<?, ?it/s]"
      ]
     },
     "metadata": {},
     "output_type": "display_data"
    },
    {
     "name": "stdout",
     "output_type": "stream",
     "text": [
      "train Loss: 0.0043 Acc: 1.0000\n"
     ]
    },
    {
     "data": {
      "application/vnd.jupyter.widget-view+json": {
       "model_id": "6df24df3efea4c41b844afc997dba4da",
       "version_major": 2,
       "version_minor": 0
      },
      "text/plain": [
       "  0%|          | 0/24 [00:00<?, ?it/s]"
      ]
     },
     "metadata": {},
     "output_type": "display_data"
    },
    {
     "name": "stdout",
     "output_type": "stream",
     "text": [
      "val Loss: 0.3159 Acc: 0.9234\n",
      "\n",
      "Epoch 22/24\n",
      "----------\n"
     ]
    },
    {
     "data": {
      "application/vnd.jupyter.widget-view+json": {
       "model_id": "c112ec70d5df4b8688051cc3e23e0c2c",
       "version_major": 2,
       "version_minor": 0
      },
      "text/plain": [
       "  0%|          | 0/426 [00:00<?, ?it/s]"
      ]
     },
     "metadata": {},
     "output_type": "display_data"
    },
    {
     "name": "stdout",
     "output_type": "stream",
     "text": [
      "train Loss: 0.0043 Acc: 1.0000\n"
     ]
    },
    {
     "data": {
      "application/vnd.jupyter.widget-view+json": {
       "model_id": "a57c10da594e4b058a597aeb8dc2d7f6",
       "version_major": 2,
       "version_minor": 0
      },
      "text/plain": [
       "  0%|          | 0/24 [00:00<?, ?it/s]"
      ]
     },
     "metadata": {},
     "output_type": "display_data"
    },
    {
     "name": "stdout",
     "output_type": "stream",
     "text": [
      "val Loss: 0.3160 Acc: 0.9234\n",
      "\n",
      "Epoch 23/24\n",
      "----------\n"
     ]
    },
    {
     "data": {
      "application/vnd.jupyter.widget-view+json": {
       "model_id": "488a9a5aa24546219349547f230b4bed",
       "version_major": 2,
       "version_minor": 0
      },
      "text/plain": [
       "  0%|          | 0/426 [00:00<?, ?it/s]"
      ]
     },
     "metadata": {},
     "output_type": "display_data"
    },
    {
     "name": "stdout",
     "output_type": "stream",
     "text": [
      "train Loss: 0.0043 Acc: 1.0000\n"
     ]
    },
    {
     "data": {
      "application/vnd.jupyter.widget-view+json": {
       "model_id": "dc5ae4433ddd4585ae58947aafb9dedf",
       "version_major": 2,
       "version_minor": 0
      },
      "text/plain": [
       "  0%|          | 0/24 [00:00<?, ?it/s]"
      ]
     },
     "metadata": {},
     "output_type": "display_data"
    },
    {
     "name": "stdout",
     "output_type": "stream",
     "text": [
      "val Loss: 0.3160 Acc: 0.9234\n",
      "\n",
      "Epoch 24/24\n",
      "----------\n"
     ]
    },
    {
     "data": {
      "application/vnd.jupyter.widget-view+json": {
       "model_id": "a08fb69c69f74445b63a771db1b449a4",
       "version_major": 2,
       "version_minor": 0
      },
      "text/plain": [
       "  0%|          | 0/426 [00:00<?, ?it/s]"
      ]
     },
     "metadata": {},
     "output_type": "display_data"
    },
    {
     "name": "stdout",
     "output_type": "stream",
     "text": [
      "train Loss: 0.0043 Acc: 1.0000\n"
     ]
    },
    {
     "data": {
      "application/vnd.jupyter.widget-view+json": {
       "model_id": "b7888025c0484929b9509f0dc332cb84",
       "version_major": 2,
       "version_minor": 0
      },
      "text/plain": [
       "  0%|          | 0/24 [00:00<?, ?it/s]"
      ]
     },
     "metadata": {},
     "output_type": "display_data"
    },
    {
     "name": "stdout",
     "output_type": "stream",
     "text": [
      "val Loss: 0.3160 Acc: 0.9234\n",
      "\n",
      "Training complete in 24m 27s\n",
      "Best val Acc: 0.923382\n"
     ]
    }
   ],
   "source": [
    "model_ft = train_model(model_ft, criterion, optimizer_ft, exp_lr_scheduler, num_epochs=25) #25"
   ]
  },
  {
   "cell_type": "code",
   "execution_count": 18,
   "id": "isolated-attribute",
   "metadata": {},
   "outputs": [
    {
     "name": "stdout",
     "output_type": "stream",
     "text": [
      "tensor([[[[ 0.6392,  0.5707,  0.5193,  ...,  0.4679,  0.4851,  0.5193],\n",
      "          [ 0.6392,  0.5707,  0.5193,  ...,  0.4679,  0.4851,  0.5193],\n",
      "          [ 0.6049,  0.5364,  0.5022,  ...,  0.4679,  0.4851,  0.5022],\n",
      "          ...,\n",
      "          [ 0.3652,  0.3823,  0.3823,  ...,  0.3994,  0.4166,  0.4508],\n",
      "          [ 0.3652,  0.3652,  0.3652,  ...,  0.4166,  0.4337,  0.4508],\n",
      "          [ 0.3652,  0.3652,  0.3652,  ...,  0.4166,  0.4337,  0.4508]],\n",
      "\n",
      "         [[ 0.4153,  0.3627,  0.3102,  ...,  0.2927,  0.3102,  0.3452],\n",
      "          [ 0.4153,  0.3627,  0.3102,  ...,  0.2927,  0.3102,  0.3452],\n",
      "          [ 0.3803,  0.3277,  0.2927,  ...,  0.2927,  0.3102,  0.3277],\n",
      "          ...,\n",
      "          [ 0.1877,  0.2052,  0.2052,  ...,  0.2227,  0.2402,  0.2927],\n",
      "          [ 0.1877,  0.1877,  0.1877,  ...,  0.2402,  0.2577,  0.2927],\n",
      "          [ 0.1877,  0.1877,  0.1877,  ...,  0.2402,  0.2577,  0.2927]],\n",
      "\n",
      "         [[ 0.2173,  0.1651,  0.1128,  ...,  0.1302,  0.1476,  0.1651],\n",
      "          [ 0.2173,  0.1651,  0.1128,  ...,  0.1302,  0.1476,  0.1651],\n",
      "          [ 0.1825,  0.1302,  0.0953,  ...,  0.1302,  0.1476,  0.1651],\n",
      "          ...,\n",
      "          [-0.0092,  0.0082,  0.0082,  ...,  0.0953,  0.1302,  0.1825],\n",
      "          [-0.0092, -0.0092, -0.0092,  ...,  0.1128,  0.1476,  0.1999],\n",
      "          [-0.0092, -0.0092, -0.0092,  ...,  0.1128,  0.1476,  0.1999]]],\n",
      "\n",
      "\n",
      "        [[[ 2.2489,  2.2489,  2.2489,  ...,  2.2489,  2.2489,  2.2489],\n",
      "          [ 2.2489,  2.2489,  2.2489,  ...,  2.2489,  2.2489,  2.2489],\n",
      "          [ 2.2489,  2.2489,  2.2489,  ...,  2.2489,  2.2489,  2.2489],\n",
      "          ...,\n",
      "          [ 2.2489,  2.2489,  2.2489,  ...,  2.2489,  2.2489,  2.2489],\n",
      "          [ 2.2489,  2.2489,  2.2489,  ...,  2.2489,  2.2489,  2.2489],\n",
      "          [ 2.2489,  2.2489,  2.2489,  ...,  2.2489,  2.2489,  2.2489]],\n",
      "\n",
      "         [[ 2.1485,  2.1485,  2.1485,  ...,  2.1660,  2.1660,  2.1660],\n",
      "          [ 2.1485,  2.1485,  2.1485,  ...,  2.1660,  2.1660,  2.1660],\n",
      "          [ 2.1485,  2.1485,  2.1485,  ...,  2.1660,  2.1660,  2.1660],\n",
      "          ...,\n",
      "          [ 2.1134,  2.1134,  2.1134,  ...,  2.1485,  2.1485,  2.1485],\n",
      "          [ 2.1134,  2.1134,  2.1134,  ...,  2.1485,  2.1485,  2.1485],\n",
      "          [ 2.1134,  2.1134,  2.1134,  ...,  2.1485,  2.1485,  2.1485]],\n",
      "\n",
      "         [[ 2.5529,  2.5529,  2.5529,  ...,  2.5529,  2.5529,  2.5529],\n",
      "          [ 2.5529,  2.5529,  2.5529,  ...,  2.5529,  2.5529,  2.5529],\n",
      "          [ 2.5529,  2.5529,  2.5529,  ...,  2.5529,  2.5529,  2.5529],\n",
      "          ...,\n",
      "          [ 2.5529,  2.5354,  2.5354,  ...,  2.5529,  2.5529,  2.5529],\n",
      "          [ 2.5529,  2.5354,  2.5354,  ...,  2.5529,  2.5529,  2.5529],\n",
      "          [ 2.5529,  2.5354,  2.5354,  ...,  2.5529,  2.5529,  2.5529]]],\n",
      "\n",
      "\n",
      "        [[[ 0.4166,  0.4337,  0.4166,  ...,  0.1939,  0.1939,  0.1597],\n",
      "          [ 0.3652,  0.3994,  0.3652,  ...,  0.1426,  0.1597,  0.1939],\n",
      "          [ 0.3481,  0.3823,  0.3652,  ...,  0.2282,  0.2967,  0.3823],\n",
      "          ...,\n",
      "          [ 0.6221,  0.6563,  0.6563,  ...,  0.3652,  0.1768,  0.1426],\n",
      "          [ 0.6221,  0.5707,  0.5707,  ...,  0.3994,  0.1426,  0.0741],\n",
      "          [ 0.6221,  0.5536,  0.5536,  ...,  0.5193,  0.2624,  0.1597]],\n",
      "\n",
      "         [[ 0.1527,  0.1877,  0.2052,  ..., -0.0749, -0.0749, -0.1099],\n",
      "          [ 0.1527,  0.2052,  0.2052,  ..., -0.1450, -0.1099, -0.0749],\n",
      "          [ 0.1527,  0.2052,  0.1877,  ..., -0.0574, -0.0049,  0.1001],\n",
      "          ...,\n",
      "          [ 0.2577,  0.2752,  0.2402,  ...,  0.1527,  0.0126,  0.0476],\n",
      "          [ 0.2752,  0.2227,  0.1527,  ...,  0.1352, -0.0749, -0.0749],\n",
      "          [ 0.3102,  0.2402,  0.2402,  ...,  0.1877, -0.0399, -0.0924]],\n",
      "\n",
      "         [[-0.1835, -0.1661, -0.1835,  ..., -0.3927, -0.3927, -0.4275],\n",
      "          [-0.2010, -0.1835, -0.2184,  ..., -0.4624, -0.4275, -0.3927],\n",
      "          [-0.2010, -0.1835, -0.2184,  ..., -0.3927, -0.3230, -0.2358],\n",
      "          ...,\n",
      "          [-0.1138, -0.0790, -0.0790,  ..., -0.2358, -0.3578, -0.3230],\n",
      "          [-0.0790, -0.1312, -0.1661,  ..., -0.2881, -0.4624, -0.4624],\n",
      "          [-0.0441, -0.1138, -0.1138,  ..., -0.2358, -0.4450, -0.4798]]],\n",
      "\n",
      "\n",
      "        ...,\n",
      "\n",
      "\n",
      "        [[[ 0.9646,  0.9132,  0.8618,  ...,  0.7933,  0.8447,  0.8618],\n",
      "          [ 0.8961,  0.8618,  0.8447,  ...,  0.7762,  0.7933,  0.7933],\n",
      "          [ 0.7248,  0.7419,  0.7591,  ...,  0.7591,  0.7591,  0.7762],\n",
      "          ...,\n",
      "          [ 0.8618,  0.8447,  0.7933,  ...,  1.3413,  1.3242,  1.2899],\n",
      "          [ 0.7933,  0.8276,  0.7762,  ...,  1.5639,  1.5297,  1.4783],\n",
      "          [ 0.9132,  0.9817,  0.9988,  ...,  1.5468,  1.5125,  1.4269]],\n",
      "\n",
      "         [[ 0.5203,  0.4678,  0.4153,  ...,  0.3452,  0.3978,  0.4153],\n",
      "          [ 0.4503,  0.4153,  0.3978,  ...,  0.3277,  0.3452,  0.3452],\n",
      "          [ 0.2752,  0.2927,  0.3102,  ...,  0.3102,  0.3102,  0.3277],\n",
      "          ...,\n",
      "          [ 0.4503,  0.4328,  0.3803,  ...,  0.9055,  0.8880,  0.8529],\n",
      "          [ 0.3627,  0.3803,  0.3452,  ...,  1.1155,  1.0980,  1.0630],\n",
      "          [ 0.4853,  0.5553,  0.5728,  ...,  1.0980,  1.0630,  0.9930]],\n",
      "\n",
      "         [[ 0.2696,  0.2173,  0.1651,  ...,  0.0953,  0.1302,  0.1476],\n",
      "          [ 0.1999,  0.1651,  0.1476,  ...,  0.0779,  0.0953,  0.0779],\n",
      "          [ 0.0256,  0.0431,  0.0605,  ...,  0.0605,  0.0605,  0.0605],\n",
      "          ...,\n",
      "          [ 0.1825,  0.1651,  0.1128,  ...,  0.6356,  0.6182,  0.5834],\n",
      "          [ 0.0953,  0.1128,  0.0779,  ...,  0.8448,  0.8274,  0.8099],\n",
      "          [ 0.1999,  0.2522,  0.2696,  ...,  0.8099,  0.7925,  0.7402]]],\n",
      "\n",
      "\n",
      "        [[[ 0.7248,  0.8276,  0.9132,  ...,  0.8447,  0.8961,  0.9474],\n",
      "          [ 0.7591,  0.8618,  0.9646,  ...,  0.8961,  0.9303,  0.9474],\n",
      "          [ 0.7591,  0.8789,  0.9988,  ...,  0.9132,  0.9474,  0.9646],\n",
      "          ...,\n",
      "          [ 0.7591,  0.8104,  0.8961,  ...,  1.0673,  1.0159,  0.9474],\n",
      "          [ 0.7762,  0.8276,  0.9132,  ...,  1.0331,  1.0159,  0.9988],\n",
      "          [ 0.8104,  0.8618,  0.9474,  ...,  0.9817,  0.9988,  1.0159]],\n",
      "\n",
      "         [[ 0.4853,  0.5728,  0.6604,  ...,  0.7129,  0.7654,  0.8179],\n",
      "          [ 0.5028,  0.6078,  0.7129,  ...,  0.7654,  0.8004,  0.8179],\n",
      "          [ 0.5203,  0.6254,  0.7479,  ...,  0.7829,  0.8179,  0.8179],\n",
      "          ...,\n",
      "          [ 0.5728,  0.6429,  0.7304,  ...,  0.9580,  0.9055,  0.8354],\n",
      "          [ 0.6078,  0.6604,  0.7479,  ...,  0.9230,  0.9055,  0.8880],\n",
      "          [ 0.6604,  0.7129,  0.8004,  ...,  0.8704,  0.8880,  0.9055]],\n",
      "\n",
      "         [[ 0.3742,  0.4788,  0.5659,  ...,  0.4962,  0.5485,  0.5834],\n",
      "          [ 0.4091,  0.5136,  0.6008,  ...,  0.5485,  0.5834,  0.5834],\n",
      "          [ 0.4265,  0.5311,  0.6182,  ...,  0.5659,  0.6008,  0.6008],\n",
      "          ...,\n",
      "          [ 0.4091,  0.4788,  0.5659,  ...,  0.8099,  0.7576,  0.6879],\n",
      "          [ 0.4439,  0.4962,  0.5834,  ...,  0.7751,  0.7576,  0.7402],\n",
      "          [ 0.4962,  0.5485,  0.6356,  ...,  0.7228,  0.7402,  0.7576]]],\n",
      "\n",
      "\n",
      "        [[[ 0.0569,  0.0569,  0.0569,  ..., -0.0287, -0.0116, -0.0116],\n",
      "          [ 0.0569,  0.0569,  0.0569,  ..., -0.0287, -0.0116, -0.0116],\n",
      "          [ 0.0569,  0.0569,  0.0569,  ..., -0.0287, -0.0116, -0.0116],\n",
      "          ...,\n",
      "          [-0.1657, -0.1999, -0.2171,  ...,  0.1083,  0.1083,  0.1083],\n",
      "          [-0.0458, -0.0972, -0.1314,  ...,  0.1083,  0.1083,  0.1083],\n",
      "          [ 0.0912,  0.0398, -0.0287,  ...,  0.1083,  0.1083,  0.1083]],\n",
      "\n",
      "         [[-0.3200, -0.3200, -0.3200,  ..., -0.4426, -0.4251, -0.4251],\n",
      "          [-0.3200, -0.3200, -0.3200,  ..., -0.4426, -0.4251, -0.4251],\n",
      "          [-0.3200, -0.3200, -0.3200,  ..., -0.4426, -0.4251, -0.4251],\n",
      "          ...,\n",
      "          [-0.5476, -0.5826, -0.6001,  ..., -0.3375, -0.3375, -0.3375],\n",
      "          [-0.4251, -0.4776, -0.5126,  ..., -0.3375, -0.3375, -0.3375],\n",
      "          [-0.2850, -0.3375, -0.4076,  ..., -0.3375, -0.3375, -0.3375]],\n",
      "\n",
      "         [[-0.3404, -0.3404, -0.3404,  ..., -0.5495, -0.5321, -0.5147],\n",
      "          [-0.3404, -0.3404, -0.3404,  ..., -0.5670, -0.5495, -0.5147],\n",
      "          [-0.3404, -0.3404, -0.3404,  ..., -0.5670, -0.5495, -0.5147],\n",
      "          ...,\n",
      "          [-0.6018, -0.6018, -0.6193,  ..., -0.4450, -0.4450, -0.4450],\n",
      "          [-0.4798, -0.5147, -0.5321,  ..., -0.4450, -0.4450, -0.4450],\n",
      "          [-0.3404, -0.3753, -0.4275,  ..., -0.4450, -0.4450, -0.4450]]]])\n",
      "{0: 'harvesting', 1: 'nothing', 2: 'sowing', 3: 'unvisible'}\n",
      "tensor([[0.0000, 1.0000, 0.0000, 0.0000],\n",
      "        [0.0000, 0.6612, 0.0000, 0.9976],\n",
      "        [0.0000, 1.0000, 0.0000, 0.0000],\n",
      "        [0.0000, 0.9999, 0.0000, 0.0000],\n",
      "        [0.0000, 0.9999, 0.5790, 0.0000],\n",
      "        [0.0000, 0.9898, 0.8117, 0.0000],\n",
      "        [0.0000, 1.0000, 0.0000, 0.0000],\n",
      "        [0.0000, 0.9997, 0.0000, 0.0000],\n",
      "        [0.0000, 0.9972, 0.0000, 0.0000],\n",
      "        [0.0000, 0.9998, 0.0000, 0.0000],\n",
      "        [0.0000, 0.9999, 0.0000, 0.0000],\n",
      "        [0.0000, 0.9998, 0.0000, 0.0000],\n",
      "        [0.0000, 1.0000, 0.0000, 0.0000],\n",
      "        [0.0000, 1.0000, 0.0000, 0.0000],\n",
      "        [0.0000, 0.9999, 0.0000, 0.0000],\n",
      "        [0.0000, 1.0000, 0.0000, 0.0000],\n",
      "        [0.7402, 0.9999, 0.0000, 0.0000],\n",
      "        [0.0000, 1.0000, 0.6465, 0.0000],\n",
      "        [0.0000, 0.9955, 0.0000, 0.8885],\n",
      "        [0.0000, 0.9980, 0.0000, 0.0000],\n",
      "        [0.0000, 1.0000, 0.0000, 0.0000],\n",
      "        [0.0000, 0.9799, 0.0000, 0.9904],\n",
      "        [0.0000, 0.9998, 0.8328, 0.0000],\n",
      "        [0.0000, 0.9998, 0.0000, 0.0000],\n",
      "        [0.0000, 0.9997, 0.0000, 0.0000],\n",
      "        [0.0000, 0.9999, 0.5711, 0.0000],\n",
      "        [0.0000, 1.0000, 0.5386, 0.0000],\n",
      "        [0.0000, 0.9990, 0.0000, 0.0000],\n",
      "        [0.0000, 0.9978, 0.0000, 0.7235],\n",
      "        [0.0000, 1.0000, 0.0000, 0.0000],\n",
      "        [0.0000, 0.9951, 0.5964, 0.0000],\n",
      "        [0.0000, 0.9998, 0.5076, 0.0000]], device='cuda:0')\n"
     ]
    },
    {
     "data": {
      "image/png": "[encoded data removed]",
      "text/plain": [
       "<Figure size 432x288 with 1 Axes>"
      ]
     },
     "metadata": {
      "needs_background": "light"
     },
     "output_type": "display_data"
    },
    {
     "data": {
      "image/png": "[encoded data removed]",
      "text/plain": [
       "<Figure size 432x288 with 1 Axes>"
      ]
     },
     "metadata": {
      "needs_background": "light"
     },
     "output_type": "display_data"
    },
    {
     "data": {
      "image/png": "[encoded data removed]",
      "text/plain": [
       "<Figure size 432x288 with 1 Axes>"
      ]
     },
     "metadata": {
      "needs_background": "light"
     },
     "output_type": "display_data"
    },
    {
     "data": {
      "image/png": "[encoded data removed]",
      "text/plain": [
       "<Figure size 432x288 with 1 Axes>"
      ]
     },
     "metadata": {
      "needs_background": "light"
     },
     "output_type": "display_data"
    },
    {
     "data": {
      "image/png": "[encoded data removed]",
      "text/plain": [
       "<Figure size 432x288 with 1 Axes>"
      ]
     },
     "metadata": {
      "needs_background": "light"
     },
     "output_type": "display_data"
    },
    {
     "data": {
      "image/png": "[encoded data removed]",
      "text/plain": [
       "<Figure size 432x288 with 1 Axes>"
      ]
     },
     "metadata": {
      "needs_background": "light"
     },
     "output_type": "display_data"
    },
    {
     "data": {
      "image/png": "[encoded data removed]",
      "text/plain": [
       "<Figure size 432x288 with 1 Axes>"
      ]
     },
     "metadata": {
      "needs_background": "light"
     },
     "output_type": "display_data"
    },
    {
     "data": {
      "image/png": "[encoded data removed]",
      "text/plain": [
       "<Figure size 432x288 with 1 Axes>"
      ]
     },
     "metadata": {
      "needs_background": "light"
     },
     "output_type": "display_data"
    },
    {
     "data": {
      "image/png": "[encoded data removed]",
      "text/plain": [
       "<Figure size 432x288 with 1 Axes>"
      ]
     },
     "metadata": {
      "needs_background": "light"
     },
     "output_type": "display_data"
    },
    {
     "data": {
      "image/png": "[encoded data removed]",
      "text/plain": [
       "<Figure size 432x288 with 1 Axes>"
      ]
     },
     "metadata": {
      "needs_background": "light"
     },
     "output_type": "display_data"
    },
    {
     "data": {
      "image/png": "[encoded data removed]",
      "text/plain": [
       "<Figure size 432x288 with 1 Axes>"
      ]
     },
     "metadata": {
      "needs_background": "light"
     },
     "output_type": "display_data"
    },
    {
     "data": {
      "image/png": "[encoded data removed]",
      "text/plain": [
       "<Figure size 432x288 with 1 Axes>"
      ]
     },
     "metadata": {
      "needs_background": "light"
     },
     "output_type": "display_data"
    },
    {
     "data": {
      "image/png": "[encoded data removed]",
      "text/plain": [
       "<Figure size 432x288 with 1 Axes>"
      ]
     },
     "metadata": {
      "needs_background": "light"
     },
     "output_type": "display_data"
    },
    {
     "data": {
      "image/png": "[encoded data removed]",
      "text/plain": [
       "<Figure size 432x288 with 1 Axes>"
      ]
     },
     "metadata": {
      "needs_background": "light"
     },
     "output_type": "display_data"
    },
    {
     "data": {
      "image/png": "[encoded data removed]",
      "text/plain": [
       "<Figure size 432x288 with 1 Axes>"
      ]
     },
     "metadata": {
      "needs_background": "light"
     },
     "output_type": "display_data"
    },
    {
     "data": {
      "image/png": "[encoded data removed]",
      "text/plain": [
       "<Figure size 432x288 with 1 Axes>"
      ]
     },
     "metadata": {
      "needs_background": "light"
     },
     "output_type": "display_data"
    },
    {
     "data": {
      "image/png": "[encoded data removed]",
      "text/plain": [
       "<Figure size 432x288 with 1 Axes>"
      ]
     },
     "metadata": {
      "needs_background": "light"
     },
     "output_type": "display_data"
    },
    {
     "data": {
      "image/png": "[encoded data removed]",
      "text/plain": [
       "<Figure size 432x288 with 1 Axes>"
      ]
     },
     "metadata": {
      "needs_background": "light"
     },
     "output_type": "display_data"
    },
    {
     "data": {
      "image/png": "[encoded data removed]",
      "text/plain": [
       "<Figure size 432x288 with 1 Axes>"
      ]
     },
     "metadata": {
      "needs_background": "light"
     },
     "output_type": "display_data"
    },
    {
     "data": {
      "image/png": "[encoded data removed]",
      "text/plain": [
       "<Figure size 432x288 with 1 Axes>"
      ]
     },
     "metadata": {
      "needs_background": "light"
     },
     "output_type": "display_data"
    },
    {
     "data": {
      "image/png": "[encoded data removed]",
      "text/plain": [
       "<Figure size 432x288 with 1 Axes>"
      ]
     },
     "metadata": {
      "needs_background": "light"
     },
     "output_type": "display_data"
    },
    {
     "data": {
      "image/png": "[encoded data removed]",
      "text/plain": [
       "<Figure size 432x288 with 1 Axes>"
      ]
     },
     "metadata": {
      "needs_background": "light"
     },
     "output_type": "display_data"
    },
    {
     "data": {
      "image/png": "[encoded data removed]",
      "text/plain": [
       "<Figure size 432x288 with 1 Axes>"
      ]
     },
     "metadata": {
      "needs_background": "light"
     },
     "output_type": "display_data"
    },
    {
     "data": {
      "image/png": "[encoded data removed]",
      "text/plain": [
       "<Figure size 432x288 with 1 Axes>"
      ]
     },
     "metadata": {
      "needs_background": "light"
     },
     "output_type": "display_data"
    },
    {
     "data": {
      "image/png": "[encoded data removed]",
      "text/plain": [
       "<Figure size 432x288 with 1 Axes>"
      ]
     },
     "metadata": {
      "needs_background": "light"
     },
     "output_type": "display_data"
    },
    {
     "data": {
      "image/png": "[encoded data removed]",
      "text/plain": [
       "<Figure size 432x288 with 1 Axes>"
      ]
     },
     "metadata": {
      "needs_background": "light"
     },
     "output_type": "display_data"
    },
    {
     "data": {
      "image/png": "[encoded data removed]",
      "text/plain": [
       "<Figure size 432x288 with 1 Axes>"
      ]
     },
     "metadata": {
      "needs_background": "light"
     },
     "output_type": "display_data"
    },
    {
     "data": {
      "image/png": "[encoded data removed]",
      "text/plain": [
       "<Figure size 432x288 with 1 Axes>"
      ]
     },
     "metadata": {
      "needs_background": "light"
     },
     "output_type": "display_data"
    },
    {
     "data": {
      "image/png": "[encoded data removed]",
      "text/plain": [
       "<Figure size 432x288 with 1 Axes>"
      ]
     },
     "metadata": {
      "needs_background": "light"
     },
     "output_type": "display_data"
    },
    {
     "data": {
      "image/png": "[encoded data removed]",
      "text/plain": [
       "<Figure size 432x288 with 1 Axes>"
      ]
     },
     "metadata": {
      "needs_background": "light"
     },
     "output_type": "display_data"
    },
    {
     "data": {
      "image/png": "[encoded data removed]",
      "text/plain": [
       "<Figure size 432x288 with 1 Axes>"
      ]
     },
     "metadata": {
      "needs_background": "light"
     },
     "output_type": "display_data"
    },
    {
     "data": {
      "image/png": "[encoded data removed]",
      "text/plain": [
       "<Figure size 432x288 with 1 Axes>"
      ]
     },
     "metadata": {
      "needs_background": "light"
     },
     "output_type": "display_data"
    },
    {
     "name": "stdout",
     "output_type": "stream",
     "text": [
      "tensor([[[[ 0.5536,  0.5536,  0.5878,  ...,  0.3138,  0.3652,  0.4337],\n",
      "          [ 0.5364,  0.5364,  0.5707,  ...,  0.2624,  0.3138,  0.3823],\n",
      "          [ 0.5707,  0.5707,  0.6049,  ...,  0.2111,  0.2282,  0.2967],\n",
      "          ...,\n",
      "          [ 0.5878,  0.4508,  0.4166,  ...,  0.3994,  0.3994,  0.3994],\n",
      "          [ 0.6906,  0.5364,  0.5022,  ...,  0.3652,  0.3652,  0.3823],\n",
      "          [ 0.8618,  0.7419,  0.6392,  ...,  0.2967,  0.2967,  0.3309]],\n",
      "\n",
      "         [[ 0.4153,  0.4328,  0.4678,  ...,  0.1877,  0.2052,  0.2752],\n",
      "          [ 0.3978,  0.3978,  0.4328,  ...,  0.1352,  0.1527,  0.2227],\n",
      "          [ 0.4328,  0.4328,  0.4678,  ...,  0.0826,  0.0826,  0.1527],\n",
      "          ...,\n",
      "          [ 0.4503,  0.3102,  0.2752,  ...,  0.1352,  0.1527,  0.1527],\n",
      "          [ 0.5553,  0.3978,  0.3627,  ...,  0.1176,  0.1352,  0.1352],\n",
      "          [ 0.7304,  0.6078,  0.5028,  ...,  0.0651,  0.0826,  0.1001]],\n",
      "\n",
      "         [[ 0.0605,  0.0779,  0.1128,  ..., -0.1312, -0.0964, -0.0267],\n",
      "          [ 0.0431,  0.0431,  0.0779,  ..., -0.1835, -0.1487, -0.0790],\n",
      "          [ 0.0779,  0.0779,  0.1128,  ..., -0.2358, -0.2184, -0.1661],\n",
      "          ...,\n",
      "          [ 0.0953, -0.0441, -0.0790,  ..., -0.0964, -0.0964, -0.0964],\n",
      "          [ 0.1999,  0.0431,  0.0082,  ..., -0.1138, -0.1138, -0.1138],\n",
      "          [ 0.3742,  0.2522,  0.1476,  ..., -0.1835, -0.1661, -0.1487]]],\n",
      "\n",
      "\n",
      "        [[[ 0.5878,  0.5707,  0.5536,  ...,  0.4337,  0.4679,  0.5364],\n",
      "          [ 0.6049,  0.5878,  0.5707,  ...,  0.3994,  0.4337,  0.5022],\n",
      "          [ 0.6221,  0.6049,  0.6049,  ...,  0.3652,  0.3823,  0.4508],\n",
      "          ...,\n",
      "          [ 0.5364,  0.3994,  0.3138,  ...,  0.6906,  0.7077,  0.7077],\n",
      "          [ 0.6392,  0.5022,  0.3994,  ...,  0.6049,  0.6221,  0.6734],\n",
      "          [ 0.7077,  0.5707,  0.4679,  ...,  0.4679,  0.5193,  0.5878]],\n",
      "\n",
      "         [[ 0.5553,  0.5378,  0.5378,  ...,  0.3803,  0.4153,  0.4853],\n",
      "          [ 0.5728,  0.5903,  0.5903,  ...,  0.3452,  0.3803,  0.4503],\n",
      "          [ 0.5903,  0.6078,  0.6078,  ...,  0.3102,  0.3277,  0.3978],\n",
      "          ...,\n",
      "          [ 0.5728,  0.4328,  0.3452,  ...,  0.6078,  0.6078,  0.6078],\n",
      "          [ 0.6779,  0.5378,  0.4328,  ...,  0.5203,  0.5378,  0.5728],\n",
      "          [ 0.7479,  0.6078,  0.5028,  ...,  0.4328,  0.4678,  0.5203]],\n",
      "\n",
      "         [[ 0.3393,  0.3219,  0.2871,  ...,  0.2173,  0.2522,  0.3219],\n",
      "          [ 0.3742,  0.3568,  0.3393,  ...,  0.1825,  0.2173,  0.2871],\n",
      "          [ 0.3916,  0.3916,  0.3742,  ...,  0.1476,  0.1651,  0.2348],\n",
      "          ...,\n",
      "          [ 0.2348,  0.0953,  0.0082,  ...,  0.3742,  0.3742,  0.3916],\n",
      "          [ 0.3393,  0.1999,  0.0953,  ...,  0.3219,  0.3393,  0.3742],\n",
      "          [ 0.4091,  0.2696,  0.1651,  ...,  0.2348,  0.2871,  0.3393]]],\n",
      "\n",
      "\n",
      "        [[[ 0.5536,  0.5193,  0.4851,  ...,  0.8447,  0.8104,  0.7762],\n",
      "          [ 0.5536,  0.5193,  0.5022,  ...,  0.7591,  0.7591,  0.7248],\n",
      "          [ 0.4851,  0.4679,  0.4337,  ...,  0.6392,  0.6221,  0.5878],\n",
      "          ...,\n",
      "          [-2.1179, -2.1179, -2.1179,  ...,  0.5707,  0.6221,  0.5878],\n",
      "          [-2.1179, -2.1179, -2.1179,  ...,  0.5878,  0.6049,  0.6049],\n",
      "          [-2.1179, -2.1179, -2.1179,  ...,  0.5536,  0.5707,  0.6221]],\n",
      "\n",
      "         [[ 0.1877,  0.1527,  0.1176,  ...,  0.4853,  0.4503,  0.4328],\n",
      "          [ 0.1877,  0.1702,  0.1527,  ...,  0.4328,  0.4328,  0.4153],\n",
      "          [ 0.1527,  0.1352,  0.0826,  ...,  0.3277,  0.3102,  0.2752],\n",
      "          ...,\n",
      "          [-2.0357, -2.0357, -2.0357,  ...,  0.2927,  0.3627,  0.3102],\n",
      "          [-2.0357, -2.0357, -2.0357,  ...,  0.3102,  0.3277,  0.3277],\n",
      "          [-2.0357, -2.0357, -2.0357,  ...,  0.2752,  0.2927,  0.3452]],\n",
      "\n",
      "         [[-0.1487, -0.1835, -0.1835,  ...,  0.2696,  0.2173,  0.1999],\n",
      "          [-0.1487, -0.1487, -0.1661,  ...,  0.2348,  0.2173,  0.1999],\n",
      "          [-0.1661, -0.1661, -0.2358,  ...,  0.1128,  0.0953,  0.0605],\n",
      "          ...,\n",
      "          [-1.8044, -1.8044, -1.8044,  ...,  0.0953,  0.1651,  0.1128],\n",
      "          [-1.8044, -1.8044, -1.8044,  ...,  0.1128,  0.1302,  0.1302],\n",
      "          [-1.8044, -1.8044, -1.8044,  ...,  0.0779,  0.0953,  0.1476]]],\n",
      "\n",
      "\n",
      "        ...,\n",
      "\n",
      "\n",
      "        [[[ 0.5364,  0.5193,  0.5193,  ...,  0.5878,  0.5707,  0.5536],\n",
      "          [ 0.5364,  0.5193,  0.5193,  ...,  0.5878,  0.5707,  0.5536],\n",
      "          [ 0.5193,  0.5193,  0.5193,  ...,  0.5878,  0.5707,  0.5536],\n",
      "          ...,\n",
      "          [ 0.5536,  0.5364,  0.5193,  ...,  0.6563,  0.6734,  0.6734],\n",
      "          [ 0.5707,  0.5536,  0.5364,  ...,  0.6734,  0.6906,  0.6906],\n",
      "          [ 0.5707,  0.5536,  0.5364,  ...,  0.6734,  0.6906,  0.6906]],\n",
      "\n",
      "         [[ 0.3102,  0.2927,  0.2927,  ...,  0.3627,  0.3627,  0.3627],\n",
      "          [ 0.3102,  0.2927,  0.2927,  ...,  0.3627,  0.3627,  0.3627],\n",
      "          [ 0.2927,  0.2927,  0.2927,  ...,  0.3627,  0.3627,  0.3627],\n",
      "          ...,\n",
      "          [ 0.3627,  0.3452,  0.3277,  ...,  0.4153,  0.4153,  0.3803],\n",
      "          [ 0.3803,  0.3627,  0.3452,  ...,  0.4328,  0.4328,  0.3978],\n",
      "          [ 0.3803,  0.3627,  0.3452,  ...,  0.4503,  0.4503,  0.4153]],\n",
      "\n",
      "         [[ 0.2348,  0.2173,  0.2173,  ...,  0.2871,  0.2871,  0.2871],\n",
      "          [ 0.2348,  0.2173,  0.2173,  ...,  0.2871,  0.2871,  0.2871],\n",
      "          [ 0.2173,  0.2173,  0.2173,  ...,  0.2871,  0.2871,  0.2871],\n",
      "          ...,\n",
      "          [ 0.3045,  0.2871,  0.2696,  ...,  0.3393,  0.3219,  0.3045],\n",
      "          [ 0.3045,  0.2871,  0.2696,  ...,  0.3742,  0.3568,  0.3393],\n",
      "          [ 0.3045,  0.2871,  0.2696,  ...,  0.3916,  0.3916,  0.3742]]],\n",
      "\n",
      "\n",
      "        [[[ 0.5022,  0.4679,  0.4508,  ...,  0.7933,  0.8104,  0.8789],\n",
      "          [ 0.4166,  0.4166,  0.4166,  ...,  0.7248,  0.7591,  0.8276],\n",
      "          [ 0.4166,  0.3994,  0.3994,  ...,  0.7077,  0.7248,  0.7933],\n",
      "          ...,\n",
      "          [ 0.3823,  0.3823,  0.4166,  ...,  0.5022,  0.3994,  0.3138],\n",
      "          [ 0.3994,  0.3823,  0.4166,  ...,  0.2967,  0.1768,  0.1768],\n",
      "          [ 0.3994,  0.4337,  0.4508,  ...,  0.1939,  0.1426,  0.1083]],\n",
      "\n",
      "         [[ 0.3277,  0.2927,  0.2752,  ...,  0.6078,  0.6254,  0.6954],\n",
      "          [ 0.2402,  0.2402,  0.2402,  ...,  0.5378,  0.5728,  0.6429],\n",
      "          [ 0.2402,  0.2227,  0.2227,  ...,  0.5203,  0.5378,  0.6078],\n",
      "          ...,\n",
      "          [ 0.2052,  0.2052,  0.2227,  ...,  0.3102,  0.2052,  0.1352],\n",
      "          [ 0.2227,  0.2052,  0.2227,  ...,  0.0826, -0.0049, -0.0049],\n",
      "          [ 0.2227,  0.2402,  0.2577,  ..., -0.0224, -0.0574, -0.0749]],\n",
      "\n",
      "         [[ 0.3045,  0.2696,  0.2522,  ...,  0.5311,  0.5485,  0.6182],\n",
      "          [ 0.2173,  0.2173,  0.2173,  ...,  0.4614,  0.4962,  0.5659],\n",
      "          [ 0.2173,  0.1999,  0.1999,  ...,  0.4439,  0.4614,  0.5311],\n",
      "          ...,\n",
      "          [ 0.1825,  0.1825,  0.1999,  ...,  0.2871,  0.1825,  0.1128],\n",
      "          [ 0.1999,  0.1825,  0.1999,  ...,  0.0779, -0.0267, -0.0267],\n",
      "          [ 0.1999,  0.2173,  0.2348,  ...,  0.0082, -0.0615, -0.0964]]],\n",
      "\n",
      "\n",
      "        [[[ 0.3994,  0.3138,  0.2111,  ..., -0.1657, -0.1828, -0.1999],\n",
      "          [ 0.1597,  0.0056, -0.0972,  ..., -0.1486, -0.1314, -0.1657],\n",
      "          [-0.1657, -0.2684, -0.3198,  ..., -0.1314, -0.1486, -0.1486],\n",
      "          ...,\n",
      "          [ 0.1939,  0.2282,  0.2453,  ...,  0.4337,  0.4337,  0.4851],\n",
      "          [ 0.2453,  0.2967,  0.2796,  ...,  0.5193,  0.4679,  0.4337],\n",
      "          [ 0.1939,  0.2282,  0.2624,  ...,  0.5022,  0.4337,  0.4508]],\n",
      "\n",
      "         [[ 0.2227,  0.1702,  0.0651,  ..., -0.4601, -0.4776, -0.4951],\n",
      "          [ 0.0476, -0.0574, -0.1625,  ..., -0.4426, -0.4251, -0.4601],\n",
      "          [-0.1975, -0.2675, -0.2850,  ..., -0.4251, -0.4426, -0.4426],\n",
      "          ...,\n",
      "          [-0.0049,  0.0301,  0.0476,  ...,  0.1001,  0.0826,  0.1176],\n",
      "          [ 0.0476,  0.1001,  0.0826,  ...,  0.1527,  0.1001,  0.0651],\n",
      "          [-0.0049,  0.0301,  0.0651,  ...,  0.1352,  0.0651,  0.0826]],\n",
      "\n",
      "         [[-0.1138, -0.1835, -0.2532,  ..., -0.6890, -0.7064, -0.7238],\n",
      "          [-0.3055, -0.4101, -0.4798,  ..., -0.6715, -0.6541, -0.6890],\n",
      "          [-0.5495, -0.6018, -0.6193,  ..., -0.6541, -0.6715, -0.6715],\n",
      "          ...,\n",
      "          [-0.3055, -0.2707, -0.2532,  ..., -0.2010, -0.2184, -0.1835],\n",
      "          [-0.2532, -0.2010, -0.2184,  ..., -0.1487, -0.2010, -0.2358],\n",
      "          [-0.3055, -0.2707, -0.2358,  ..., -0.1661, -0.2358, -0.2184]]]])\n",
      "{0: 'harvesting', 1: 'nothing', 2: 'sowing', 3: 'unvisible'}\n",
      "tensor([[0.0000, 0.9902, 0.9424, 0.0000],\n",
      "        [0.0000, 0.9995, 0.0000, 0.0000],\n",
      "        [0.0000, 0.9976, 0.0000, 0.9030],\n",
      "        [0.0000, 1.0000, 0.0000, 0.0000],\n",
      "        [0.0000, 0.9985, 0.0000, 0.0000],\n",
      "        [0.0000, 1.0000, 0.0000, 0.0000],\n",
      "        [0.0000, 1.0000, 0.0000, 0.0000],\n",
      "        [0.0000, 0.9977, 0.0000, 0.9573],\n",
      "        [0.0000, 0.9999, 0.0000, 0.0000],\n",
      "        [0.0000, 0.9959, 0.8908, 0.0000],\n",
      "        [0.9943, 0.0000, 0.8765, 0.0000],\n",
      "        [0.0000, 0.9894, 0.8300, 0.0000],\n",
      "        [0.0000, 1.0000, 0.0000, 0.0000],\n",
      "        [0.0000, 0.9998, 0.0000, 0.0000],\n",
      "        [0.0000, 0.9752, 0.9041, 0.0000],\n",
      "        [0.0000, 0.9999, 0.7022, 0.0000],\n",
      "        [0.0000, 1.0000, 0.0000, 0.0000],\n",
      "        [0.0000, 0.9673, 0.9999, 0.0000],\n",
      "        [0.0000, 0.9989, 0.0000, 0.7698],\n",
      "        [0.0000, 1.0000, 0.0000, 0.0000],\n",
      "        [0.0000, 1.0000, 0.0000, 0.7886],\n",
      "        [0.0000, 1.0000, 0.0000, 0.0000],\n",
      "        [0.0000, 1.0000, 0.0000, 0.0000],\n",
      "        [0.0000, 0.9999, 0.0000, 0.0000],\n",
      "        [0.0000, 0.8838, 0.0000, 0.9686],\n",
      "        [0.0000, 1.0000, 0.0000, 0.0000],\n",
      "        [0.0000, 0.9994, 0.7124, 0.0000],\n",
      "        [0.0000, 0.9443, 0.0000, 0.9984],\n",
      "        [0.0000, 0.9998, 0.0000, 0.0000],\n",
      "        [0.0000, 1.0000, 0.0000, 0.0000],\n",
      "        [0.9150, 0.8900, 0.0000, 0.0000],\n",
      "        [0.0000, 1.0000, 0.0000, 0.0000]], device='cuda:0')\n"
     ]
    },
    {
     "data": {
      "image/png": "[encoded data removed]",
      "text/plain": [
       "<Figure size 432x288 with 1 Axes>"
      ]
     },
     "metadata": {
      "needs_background": "light"
     },
     "output_type": "display_data"
    },
    {
     "data": {
      "image/png": "[encoded data removed]",
      "text/plain": [
       "<Figure size 432x288 with 1 Axes>"
      ]
     },
     "metadata": {
      "needs_background": "light"
     },
     "output_type": "display_data"
    },
    {
     "data": {
      "image/png": "[encoded data removed]",
      "text/plain": [
       "<Figure size 432x288 with 1 Axes>"
      ]
     },
     "metadata": {
      "needs_background": "light"
     },
     "output_type": "display_data"
    },
    {
     "data": {
      "image/png": "[encoded data removed]",
      "text/plain": [
       "<Figure size 432x288 with 1 Axes>"
      ]
     },
     "metadata": {
      "needs_background": "light"
     },
     "output_type": "display_data"
    },
    {
     "data": {
      "image/png": "[encoded data removed]",
      "text/plain": [
       "<Figure size 432x288 with 1 Axes>"
      ]
     },
     "metadata": {
      "needs_background": "light"
     },
     "output_type": "display_data"
    },
    {
     "data": {
      "image/png": "[encoded data removed]",
      "text/plain": [
       "<Figure size 432x288 with 1 Axes>"
      ]
     },
     "metadata": {
      "needs_background": "light"
     },
     "output_type": "display_data"
    },
    {
     "data": {
      "image/png": "[encoded data removed]",
      "text/plain": [
       "<Figure size 432x288 with 1 Axes>"
      ]
     },
     "metadata": {
      "needs_background": "light"
     },
     "output_type": "display_data"
    },
    {
     "data": {
      "image/png": "[encoded data removed]",
      "text/plain": [
       "<Figure size 432x288 with 1 Axes>"
      ]
     },
     "metadata": {
      "needs_background": "light"
     },
     "output_type": "display_data"
    },
    {
     "data": {
      "image/png": "[encoded data removed]",
      "text/plain": [
       "<Figure size 432x288 with 1 Axes>"
      ]
     },
     "metadata": {
      "needs_background": "light"
     },
     "output_type": "display_data"
    },
    {
     "data": {
      "image/png": "[encoded data removed]",
      "text/plain": [
       "<Figure size 432x288 with 1 Axes>"
      ]
     },
     "metadata": {
      "needs_background": "light"
     },
     "output_type": "display_data"
    },
    {
     "data": {
      "image/png": "[encoded data removed]",
      "text/plain": [
       "<Figure size 432x288 with 1 Axes>"
      ]
     },
     "metadata": {
      "needs_background": "light"
     },
     "output_type": "display_data"
    },
    {
     "data": {
      "image/png": "[encoded data removed]",
      "text/plain": [
       "<Figure size 432x288 with 1 Axes>"
      ]
     },
     "metadata": {
      "needs_background": "light"
     },
     "output_type": "display_data"
    },
    {
     "data": {
      "image/png": "[encoded data removed]",
      "text/plain": [
       "<Figure size 432x288 with 1 Axes>"
      ]
     },
     "metadata": {
      "needs_background": "light"
     },
     "output_type": "display_data"
    },
    {
     "data": {
      "image/png": "[encoded data removed]",
      "text/plain": [
       "<Figure size 432x288 with 1 Axes>"
      ]
     },
     "metadata": {
      "needs_background": "light"
     },
     "output_type": "display_data"
    },
    {
     "data": {
      "image/png": "[encoded data removed]",
      "text/plain": [
       "<Figure size 432x288 with 1 Axes>"
      ]
     },
     "metadata": {
      "needs_background": "light"
     },
     "output_type": "display_data"
    },
    {
     "data": {
      "image/png": "[encoded data removed]",
      "text/plain": [
       "<Figure size 432x288 with 1 Axes>"
      ]
     },
     "metadata": {
      "needs_background": "light"
     },
     "output_type": "display_data"
    },
    {
     "data": {
      "image/png": "[encoded data removed]",
      "text/plain": [
       "<Figure size 432x288 with 1 Axes>"
      ]
     },
     "metadata": {
      "needs_background": "light"
     },
     "output_type": "display_data"
    },
    {
     "data": {
      "image/png": "[encoded data removed]",
      "text/plain": [
       "<Figure size 432x288 with 1 Axes>"
      ]
     },
     "metadata": {
      "needs_background": "light"
     },
     "output_type": "display_data"
    }
   ],
   "source": [
    "visualize_model(model_ft, 50)"
   ]
  },
  {
   "cell_type": "code",
   "execution_count": 15,
   "id": "possible-expression",
   "metadata": {},
   "outputs": [],
   "source": [
    "model_conv = torchvision.models.resnet18(pretrained=True)\n",
    "for param in model_conv.parameters():\n",
    "    param.requires_grad = False\n",
    "\n",
    "# Parameters of newly constructed modules have requires_grad=True by default\n",
    "num_ftrs = model_conv.fc.in_features\n",
    "model_conv.fc = nn.Linear(num_ftrs, len(labels))\n",
    "\n",
    "model_conv = model_conv.to(device)\n",
    "\n",
    "criterion = nn.CrossEntropyLoss()\n",
    "\n",
    "# Observe that only parameters of final layer are being optimized as\n",
    "# opposed to before.\n",
    "optimizer_conv = optim.SGD(model_conv.fc.parameters(), lr=0.001, momentum=0.9)\n",
    "\n",
    "# Decay LR by a factor of 0.1 every 7 epochs\n",
    "exp_lr_scheduler = lr_scheduler.StepLR(optimizer_conv, step_size=7, gamma=0.1)"
   ]
  },
  {
   "cell_type": "code",
   "execution_count": 16,
   "id": "biblical-panel",
   "metadata": {},
   "outputs": [
    {
     "name": "stdout",
     "output_type": "stream",
     "text": [
      "Epoch 0/0\n",
      "----------\n"
     ]
    },
    {
     "data": {
      "application/vnd.jupyter.widget-view+json": {
       "model_id": "1b905c70526e40ed816eed57dbea4fcf",
       "version_major": 2,
       "version_minor": 0
      },
      "text/plain": [
       "  0%|          | 0/426 [00:00<?, ?it/s]"
      ]
     },
     "metadata": {},
     "output_type": "display_data"
    },
    {
     "name": "stdout",
     "output_type": "stream",
     "text": [
      "train Loss: 0.4236 Acc: 0.8769\n"
     ]
    },
    {
     "data": {
      "application/vnd.jupyter.widget-view+json": {
       "model_id": "6ea2d937d8b5403c8032625a68d2d316",
       "version_major": 2,
       "version_minor": 0
      },
      "text/plain": [
       "  0%|          | 0/24 [00:00<?, ?it/s]"
      ]
     },
     "metadata": {},
     "output_type": "display_data"
    },
    {
     "name": "stdout",
     "output_type": "stream",
     "text": [
      "val Loss: 0.3662 Acc: 0.8719\n",
      "\n",
      "Training complete in 0m 36s\n",
      "Best val Acc: 0.871863\n"
     ]
    }
   ],
   "source": [
    "model_conv = train_model(model_conv, criterion, optimizer_conv,\n",
    "                         exp_lr_scheduler, num_epochs=1) #25"
   ]
  },
  {
   "cell_type": "code",
   "execution_count": null,
   "id": "sticky-turning",
   "metadata": {},
   "outputs": [],
   "source": []
  }
 ],
 "metadata": {
  "kernelspec": {
   "display_name": "Python 3",
   "language": "python",
   "name": "python3"
  },
  "language_info": {
   "codemirror_mode": {
    "name": "ipython",
    "version": 3
   },
   "file_extension": ".py",
   "mimetype": "text/x-python",
   "name": "python",
   "nbconvert_exporter": "python",
   "pygments_lexer": "ipython3",
   "version": "3.8.5"
  }
 },
 "nbformat": 4,
 "nbformat_minor": 5
}
